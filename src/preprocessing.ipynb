{
 "cells": [
  {
   "cell_type": "code",
   "execution_count": null,
   "metadata": {},
   "outputs": [],
   "source": [
    "# pip install geopandas, geopy, opencage, ipywidgets (for tqdm)"
   ]
  },
  {
   "cell_type": "code",
   "execution_count": 1,
   "metadata": {},
   "outputs": [],
   "source": [
    "import os\n",
    "# Creating paths\n",
    "in_folderpath = os.path.join(\"..\", \"in\")\n",
    "\n",
    "os.makedirs(in_folderpath, exist_ok=True)"
   ]
  },
  {
   "cell_type": "code",
   "execution_count": 2,
   "metadata": {},
   "outputs": [
    {
     "name": "stdout",
     "output_type": "stream",
     "text": [
      "2526\n"
     ]
    }
   ],
   "source": [
    "import geopandas as gpd\n",
    "\n",
    "# Loading the data into A geopandas dataframe\n",
    "gdf = gpd.read_file(os.path.join(in_folderpath, \"datacenters.geojson\"))\n",
    "\n",
    "# Filtering the dataframe to only include locations within the US\n",
    "gdf_usa = gdf[gdf['country'] == 'USA']\n",
    "\n",
    "print(len(gdf_usa))"
   ]
  },
  {
   "cell_type": "markdown",
   "metadata": {},
   "source": [
    "## Correct way of using the geolocator"
   ]
  },
  {
   "cell_type": "code",
   "execution_count": 3,
   "metadata": {},
   "outputs": [
    {
     "name": "stderr",
     "output_type": "stream",
     "text": [
      "Geocoding Addresses: 2526it [03:03, 13.76it/s]\n"
     ]
    },
    {
     "name": "stdout",
     "output_type": "stream",
     "text": [
      "2526\n",
      "GeoJSON file has been formatted and saved.\n"
     ]
    }
   ],
   "source": [
    "\n",
    "from opencage.geocoder import OpenCageGeocode\n",
    "from shapely.geometry import Point\n",
    "import json\n",
    "from tqdm import tqdm\n",
    "\n",
    "api_key = '4176360a8df2453abab8cb3341a7be21'\n",
    "\n",
    "geolocator = OpenCageGeocode(api_key)\n",
    "\n",
    "# Iterate through each row to check and update geometry\n",
    "for i, row in tqdm(gdf_usa.iterrows(), desc=\"Geocoding Addresses\"):\n",
    "\n",
    "    if row['geometry'] is None or row['geometry'].is_empty:\n",
    "        \n",
    "        # Creates an address for the geolocator\n",
    "        address = f\"{row['address']}, {row['postal']}, {row['city']}, {row['state']}, {row['country']}\"\n",
    "        \n",
    "        # Returns a list of dictionaries with spatial information about the data center \n",
    "        location = geolocator.geocode(address)\n",
    "        \n",
    "        if location:\n",
    "\n",
    "            # Retrieves the geometry from the list of dictionaries\n",
    "            geometry = location[0]['geometry']\n",
    "\n",
    "            # Adds the retrived latitude and longditude to each row in data frame\n",
    "            gdf_usa.at[i, 'geometry'] = Point(geometry['lng'], geometry['lat'])\n",
    "            gdf_usa.at[i, 'latitude'] = geometry['lat']\n",
    "            gdf_usa.at[i, 'longitude'] = geometry['lng']\n",
    "        else:\n",
    "            print(\"Geometry not found\")\n",
    "\n",
    "\n",
    "gdf_usa_filtered = gdf_usa[gdf_usa['geometry'].notna()]\n",
    "\n",
    "print(len(gdf_usa_filtered))\n",
    "\n",
    "# Convert GeoDataFrame to JSON and save\n",
    "json_str = gdf_usa_filtered.to_json()\n",
    "\n",
    "json_dict = json.loads(json_str)\n",
    "\n",
    "with open(os.path.join(in_folderpath, \"datacenters_usa.geojson\"), 'w') as f:\n",
    "    json.dump(json_dict, f, indent=2)\n",
    "\n",
    "print(\"GeoJSON file has been formatted and saved.\")"
   ]
  },
  {
   "cell_type": "markdown",
   "metadata": {},
   "source": [
    "## Wrong way of using the geolocator"
   ]
  },
  {
   "cell_type": "code",
   "execution_count": null,
   "metadata": {},
   "outputs": [],
   "source": [
    "from geopy.geocoders import Nominatim\n",
    "from shapely.geometry import Point\n",
    "import json\n",
    "from tqdm import tqdm\n",
    "\n",
    "\n",
    "# Iterate through each row to check and update geometry\n",
    "for i, row in tqdm(gdf_usa.iterrows()):\n",
    "\n",
    "    if row['geometry'] is None or row['geometry'].is_empty:\n",
    "        \n",
    "        # Dynamically create a geolocator object with a unique user_agent for each row\n",
    "        geolocator = Nominatim(user_agent=f\"geocoding_address_{i}\")\n",
    "        \n",
    "        # Creates an address for the geolocator\n",
    "        address = f\"{row['address']}, {row['postal']}, {row['city']}, {row['state']}, {row['country']}\"\n",
    "        location = geolocator.geocode(address)\n",
    "        \n",
    "        if location:\n",
    "            # Primary location found, updating the geometry\n",
    "            gdf_usa.at[i, 'geometry'] = Point(location.longitude, location.latitude)\n",
    "            gdf_usa.at[i, 'latitude'] = location.latitude\n",
    "            gdf_usa.at[i, 'longitude'] = location.longitude\n",
    "        else:\n",
    "            # Primary location not found, trying alternate address\n",
    "            alt_address = f\"{row['postal']}, {row['city']}, {row['state']}, {row['country']}\"\n",
    "            alt_location = geolocator.geocode(alt_address)\n",
    "\n",
    "            if alt_location:\n",
    "                # Alternate location found, updating the geometry\n",
    "                gdf_usa.at[i, 'geometry'] = Point(alt_location.longitude, alt_location.latitude)\n",
    "                gdf_usa.at[i, 'latitude'] = alt_location.latitude\n",
    "                gdf_usa.at[i, 'longitude'] = alt_location.longitude\n",
    "            else:\n",
    "                # Neither primary nor alternate location found\n",
    "                print(\"Geometry not found\")\n",
    "\n",
    "\n",
    "gdf_usa_filtered = gdf_usa[gdf_usa['geometry'].notna()]\n",
    "\n",
    "# Convert GeoDataFrame to JSON and save\n",
    "json_str = gdf_usa_filtered.to_json()\n",
    "\n",
    "json_dict = json.loads(json_str)\n",
    "\n",
    "with open(os.path.join(in_folderpath, \"datacenters_usa.geojson\"), 'w') as f:\n",
    "    json.dump(json_dict, f, indent=2)\n",
    "\n",
    "print(\"GeoJSON file has been formatted and saved.\")"
   ]
  },
  {
   "cell_type": "markdown",
   "metadata": {},
   "source": [
    "## Finding missing temperatures"
   ]
  },
  {
   "cell_type": "code",
   "execution_count": null,
   "metadata": {},
   "outputs": [],
   "source": [
    "\n",
    "import pandas as pd\n",
    "\n",
    "state_temp = pd.read_csv(os.path.join(in_folderpath, \"state_temp.csv\"), skiprows=4)\n",
    "\n",
    "state_temp.head()"
   ]
  },
  {
   "cell_type": "code",
   "execution_count": null,
   "metadata": {},
   "outputs": [],
   "source": [
    "state_temp.rename(columns={'Name' : 'State_Name', 'Value' : 'temperature'}, inplace=True)\n",
    "\n",
    "state_temp = state_temp[['State_Name','temperature']]\n",
    "\n",
    "state_temp.head()"
   ]
  },
  {
   "cell_type": "code",
   "execution_count": null,
   "metadata": {},
   "outputs": [],
   "source": [
    "\n",
    "# Calculates the average of the annual high temperature and annual low temperature for Honolulu, Hawaii\n",
    "avg_temp_hawaii = (84+71)/2\n",
    "\n",
    "# Creates a data frame with the missing states and their average tempeatures \n",
    "missing_states = pd.DataFrame({\n",
    "    'State_Name': ['Alaska', 'Washington, D.C', 'Hawaii'],\n",
    "    'temperature': [28.4, 61.2, avg_temp_hawaii]\n",
    "})\n",
    "\n",
    "# Creates a boolean condition that checks if the State_Name column contains any of the missing states\n",
    "states_found = state_temp['State_Name'].isin(['Alaska', 'Washington, D.C', 'Hawaii'])\n",
    "\n",
    "# If none of the missing states are present in the column, the missing_states data frame and state_temp data frame are merged together  \n",
    "if not states_found.any():\n",
    "\n",
    "    state_temp = pd.concat([state_temp, missing_states])\n",
    "\n",
    "# Sorts the data frame by state name, drops the original index and resets the new one from zero\n",
    "state_temp = state_temp.sort_values(by='State_Name').reset_index(drop=True)\n"
   ]
  },
  {
   "cell_type": "code",
   "execution_count": null,
   "metadata": {},
   "outputs": [],
   "source": [
    "state_temp"
   ]
  },
  {
   "cell_type": "markdown",
   "metadata": {},
   "source": [
    "## References \n",
    "\n",
    "### Nominatim\n",
    "\n",
    "https://medium.com/@gopesh3652/geocoding-with-python-using-nominatim-a-beginners-guide-220b250ca48d \n",
    "\n",
    "https://geopy.readthedocs.io/en/stable/ \n",
    "\n",
    "\n",
    "### Temperatures\n",
    "\n",
    "Alaska:\n",
    "https://www.ncei.noaa.gov/access/monitoring/monthly-report/national/202313 \n",
    "\n",
    "Hawaii:\n",
    "https://www.usclimatedata.com/climate/honolulu/hawaii/united-states/ushi0026\n",
    "\n",
    "Washington DC:\n",
    "https://www.weather.gov/media/lwx/climate/dcatemps.pdf \n"
   ]
  }
 ],
 "metadata": {
  "kernelspec": {
   "display_name": "Python 3",
   "language": "python",
   "name": "python3"
  },
  "language_info": {
   "codemirror_mode": {
    "name": "ipython",
    "version": 3
   },
   "file_extension": ".py",
   "mimetype": "text/x-python",
   "name": "python",
   "nbconvert_exporter": "python",
   "pygments_lexer": "ipython3",
   "version": "3.12.0"
  }
 },
 "nbformat": 4,
 "nbformat_minor": 2
}
