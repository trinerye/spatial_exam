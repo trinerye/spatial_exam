{
 "cells": [
  {
   "cell_type": "code",
   "execution_count": null,
   "metadata": {},
   "outputs": [],
   "source": [
    "# pip install geopandas, geopy"
   ]
  },
  {
   "cell_type": "code",
   "execution_count": 1,
   "metadata": {},
   "outputs": [],
   "source": [
    "import os\n",
    "# Creating paths\n",
    "out_folderpath = os.path.join(\"..\", \"out\")\n",
    "os.makedirs(out_folderpath, exist_ok=True)\n",
    "filepath = os.path.join(out_folderpath, \"datacenters_usa.geojson\")"
   ]
  },
  {
   "cell_type": "code",
   "execution_count": 2,
   "metadata": {},
   "outputs": [],
   "source": [
    "import geopandas as gpd\n",
    "\n",
    "# Loading the data into A geopandas dataframe\n",
    "gdf = gpd.read_file(os.path.join(\"..\", \"data\", \"datacenters.geojson\"))\n",
    "\n",
    "# Filtering the dataframe to only include locations within the US\n",
    "gdf_usa = gdf[gdf['country'] == 'USA']"
   ]
  },
  {
   "cell_type": "code",
   "execution_count": 3,
   "metadata": {},
   "outputs": [
    {
     "name": "stderr",
     "output_type": "stream",
     "text": [
      "190it [00:05, 24.98it/s]"
     ]
    },
    {
     "name": "stdout",
     "output_type": "stream",
     "text": [
      "Geometry not found\n"
     ]
    },
    {
     "name": "stderr",
     "output_type": "stream",
     "text": [
      "1048it [00:35, 73.60it/s]"
     ]
    },
    {
     "name": "stdout",
     "output_type": "stream",
     "text": [
      "Geometry not found\n"
     ]
    },
    {
     "name": "stderr",
     "output_type": "stream",
     "text": [
      "1316it [00:43, 36.54it/s]"
     ]
    },
    {
     "name": "stdout",
     "output_type": "stream",
     "text": [
      "Geometry not found\n"
     ]
    },
    {
     "name": "stderr",
     "output_type": "stream",
     "text": [
      "1781it [01:11,  6.82it/s]"
     ]
    },
    {
     "name": "stdout",
     "output_type": "stream",
     "text": [
      "Geometry not found\n"
     ]
    },
    {
     "name": "stderr",
     "output_type": "stream",
     "text": [
      "2012it [01:20, 18.52it/s]"
     ]
    },
    {
     "name": "stdout",
     "output_type": "stream",
     "text": [
      "Geometry not found\n"
     ]
    },
    {
     "name": "stderr",
     "output_type": "stream",
     "text": [
      "2338it [01:41, 26.53it/s]"
     ]
    },
    {
     "name": "stdout",
     "output_type": "stream",
     "text": [
      "Geometry not found\n"
     ]
    },
    {
     "name": "stderr",
     "output_type": "stream",
     "text": [
      "2343it [01:42, 20.97it/s]"
     ]
    },
    {
     "name": "stdout",
     "output_type": "stream",
     "text": [
      "Geometry not found\n"
     ]
    },
    {
     "name": "stderr",
     "output_type": "stream",
     "text": [
      "2526it [01:46, 23.70it/s]"
     ]
    },
    {
     "name": "stdout",
     "output_type": "stream",
     "text": [
      "GeoJSON file has been formatted and saved.\n"
     ]
    },
    {
     "name": "stderr",
     "output_type": "stream",
     "text": [
      "\n"
     ]
    }
   ],
   "source": [
    "from geopy.geocoders import Nominatim\n",
    "from shapely.geometry import Point\n",
    "import json\n",
    "from tqdm import tqdm\n",
    "\n",
    "\n",
    "# Iterate through each row to check and update geometry\n",
    "for i, row in tqdm(gdf_usa.iterrows()):\n",
    "\n",
    "    if row['geometry'] is None or row['geometry'].is_empty:\n",
    "        \n",
    "        # Dynamically create a geolocator object with a unique user_agent for each row\n",
    "        geolocator = Nominatim(user_agent=f\"geocoding_address_{i}\")\n",
    "        \n",
    "        # Creates an address for the geolocator\n",
    "        address = f\"{row['address']}, {row['postal']}, {row['city']}, {row['state']}, {row['country']}\"\n",
    "        location = geolocator.geocode(address)\n",
    "        \n",
    "        if location:\n",
    "            # Primary location found, updating the geometry\n",
    "            gdf_usa.at[i, 'geometry'] = Point(location.longitude, location.latitude)\n",
    "            gdf_usa.at[i, 'latitude'] = location.latitude\n",
    "            gdf_usa.at[i, 'longitude'] = location.longitude\n",
    "        else:\n",
    "            # Primary location not found, trying alternate address\n",
    "            alt_address = f\"{row['postal']}, {row['city']}, {row['state']}, {row['country']}\"\n",
    "            alt_location = geolocator.geocode(alt_address)\n",
    "\n",
    "            if alt_location:\n",
    "                # Alternate location found, updating the geometry\n",
    "                gdf_usa.at[i, 'geometry'] = Point(alt_location.longitude, alt_location.latitude)\n",
    "                gdf_usa.at[i, 'latitude'] = alt_location.latitude\n",
    "                gdf_usa.at[i, 'longitude'] = alt_location.longitude\n",
    "            else:\n",
    "                # Neither primary nor alternate location found\n",
    "                print(\"Geometry not found\")\n",
    "\n",
    "# Convert GeoDataFrame to JSON and save\n",
    "json_str = gdf_usa.to_json()\n",
    "json_dict = json.loads(json_str)\n",
    "\n",
    "with open(filepath, 'w') as f:\n",
    "    json.dump(json_dict, f, indent=2)\n",
    "\n",
    "print(\"GeoJSON file has been formatted and saved.\")"
   ]
  },
  {
   "cell_type": "code",
   "execution_count": null,
   "metadata": {},
   "outputs": [],
   "source": [
    "# filter_gdf_usa = gdf_usa[gdf_usa['geometry'].notna()]"
   ]
  },
  {
   "cell_type": "markdown",
   "metadata": {},
   "source": [
    "## References \n",
    "\n",
    "https://medium.com/@gopesh3652/geocoding-with-python-using-nominatim-a-beginners-guide-220b250ca48d \n",
    "\n",
    "https://geopy.readthedocs.io/en/stable/ "
   ]
  }
 ],
 "metadata": {
  "kernelspec": {
   "display_name": "Python 3",
   "language": "python",
   "name": "python3"
  },
  "language_info": {
   "codemirror_mode": {
    "name": "ipython",
    "version": 3
   },
   "file_extension": ".py",
   "mimetype": "text/x-python",
   "name": "python",
   "nbconvert_exporter": "python",
   "pygments_lexer": "ipython3",
   "version": "3.12.0"
  }
 },
 "nbformat": 4,
 "nbformat_minor": 2
}
