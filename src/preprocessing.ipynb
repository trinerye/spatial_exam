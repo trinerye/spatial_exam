{
 "cells": [
  {
   "cell_type": "code",
   "execution_count": null,
   "metadata": {},
   "outputs": [],
   "source": [
    "# pip install geopandas, geopy"
   ]
  },
  {
   "cell_type": "code",
   "execution_count": 4,
   "metadata": {},
   "outputs": [],
   "source": [
    "import os\n",
    "# Creating paths\n",
    "in_folderpath = os.path.join(\"..\", \"in\")\n",
    "\n",
    "os.makedirs(in_folderpath, exist_ok=True)"
   ]
  },
  {
   "cell_type": "code",
   "execution_count": 5,
   "metadata": {},
   "outputs": [],
   "source": [
    "import geopandas as gpd\n",
    "\n",
    "# Loading the data into A geopandas dataframe\n",
    "gdf = gpd.read_file(os.path.join(in_folderpath, \"datacenters.geojson\")\n",
    ")\n",
    "\n",
    "# Filtering the dataframe to only include locations within the US\n",
    "gdf_usa = gdf[gdf['country'] == 'USA']"
   ]
  },
  {
   "cell_type": "code",
   "execution_count": 6,
   "metadata": {},
   "outputs": [
    {
     "name": "stderr",
     "output_type": "stream",
     "text": [
      "185it [00:05, 23.28it/s]"
     ]
    },
    {
     "name": "stdout",
     "output_type": "stream",
     "text": [
      "Geometry not found\n"
     ]
    },
    {
     "name": "stderr",
     "output_type": "stream",
     "text": [
      "1048it [00:39, 71.47it/s]"
     ]
    },
    {
     "name": "stdout",
     "output_type": "stream",
     "text": [
      "Geometry not found\n"
     ]
    },
    {
     "name": "stderr",
     "output_type": "stream",
     "text": [
      "1316it [00:48, 28.60it/s]"
     ]
    },
    {
     "name": "stdout",
     "output_type": "stream",
     "text": [
      "Geometry not found\n"
     ]
    },
    {
     "name": "stderr",
     "output_type": "stream",
     "text": [
      "1781it [01:19,  4.56it/s]"
     ]
    },
    {
     "name": "stdout",
     "output_type": "stream",
     "text": [
      "Geometry not found\n"
     ]
    },
    {
     "name": "stderr",
     "output_type": "stream",
     "text": [
      "2012it [01:32, 20.43it/s]"
     ]
    },
    {
     "name": "stdout",
     "output_type": "stream",
     "text": [
      "Geometry not found\n"
     ]
    },
    {
     "name": "stderr",
     "output_type": "stream",
     "text": [
      "2338it [01:57, 18.09it/s]"
     ]
    },
    {
     "name": "stdout",
     "output_type": "stream",
     "text": [
      "Geometry not found\n"
     ]
    },
    {
     "name": "stderr",
     "output_type": "stream",
     "text": [
      "2343it [01:59, 15.32it/s]"
     ]
    },
    {
     "name": "stdout",
     "output_type": "stream",
     "text": [
      "Geometry not found\n"
     ]
    },
    {
     "name": "stderr",
     "output_type": "stream",
     "text": [
      "2526it [02:04, 20.37it/s]\n"
     ]
    },
    {
     "name": "stdout",
     "output_type": "stream",
     "text": [
      "GeoJSON file has been formatted and saved.\n"
     ]
    }
   ],
   "source": [
    "from geopy.geocoders import Nominatim\n",
    "from shapely.geometry import Point\n",
    "import json\n",
    "from tqdm import tqdm\n",
    "\n",
    "\n",
    "# Iterate through each row to check and update geometry\n",
    "for i, row in tqdm(gdf_usa.iterrows()):\n",
    "\n",
    "    if row['geometry'] is None or row['geometry'].is_empty:\n",
    "        \n",
    "        # Dynamically create a geolocator object with a unique user_agent for each row\n",
    "        geolocator = Nominatim(user_agent=f\"geocoding_address_{i}\")\n",
    "        \n",
    "        # Creates an address for the geolocator\n",
    "        address = f\"{row['address']}, {row['postal']}, {row['city']}, {row['state']}, {row['country']}\"\n",
    "        location = geolocator.geocode(address)\n",
    "        \n",
    "        if location:\n",
    "            # Primary location found, updating the geometry\n",
    "            gdf_usa.at[i, 'geometry'] = Point(location.longitude, location.latitude)\n",
    "            gdf_usa.at[i, 'latitude'] = location.latitude\n",
    "            gdf_usa.at[i, 'longitude'] = location.longitude\n",
    "        else:\n",
    "            # Primary location not found, trying alternate address\n",
    "            alt_address = f\"{row['postal']}, {row['city']}, {row['state']}, {row['country']}\"\n",
    "            alt_location = geolocator.geocode(alt_address)\n",
    "\n",
    "            if alt_location:\n",
    "                # Alternate location found, updating the geometry\n",
    "                gdf_usa.at[i, 'geometry'] = Point(alt_location.longitude, alt_location.latitude)\n",
    "                gdf_usa.at[i, 'latitude'] = alt_location.latitude\n",
    "                gdf_usa.at[i, 'longitude'] = alt_location.longitude\n",
    "            else:\n",
    "                # Neither primary nor alternate location found\n",
    "                print(\"Geometry not found\")\n",
    "\n",
    "\n",
    "gdf_usa_filtered = gdf_usa[gdf_usa['geometry'].notna()]\n",
    "\n",
    "# Convert GeoDataFrame to JSON and save\n",
    "json_str = gdf_usa_filtered.to_json()\n",
    "\n",
    "json_dict = json.loads(json_str)\n",
    "\n",
    "with open(os.path.join(in_folderpath, \"datacenters_usa.geojson\"), 'w') as f:\n",
    "    json.dump(json_dict, f, indent=2)\n",
    "\n",
    "print(\"GeoJSON file has been formatted and saved.\")"
   ]
  },
  {
   "cell_type": "code",
   "execution_count": null,
   "metadata": {},
   "outputs": [],
   "source": []
  },
  {
   "cell_type": "markdown",
   "metadata": {},
   "source": [
    "## References \n",
    "\n",
    "https://medium.com/@gopesh3652/geocoding-with-python-using-nominatim-a-beginners-guide-220b250ca48d \n",
    "\n",
    "https://geopy.readthedocs.io/en/stable/ "
   ]
  }
 ],
 "metadata": {
  "kernelspec": {
   "display_name": "Python 3",
   "language": "python",
   "name": "python3"
  },
  "language_info": {
   "codemirror_mode": {
    "name": "ipython",
    "version": 3
   },
   "file_extension": ".py",
   "mimetype": "text/x-python",
   "name": "python",
   "nbconvert_exporter": "python",
   "pygments_lexer": "ipython3",
   "version": "3.12.0"
  }
 },
 "nbformat": 4,
 "nbformat_minor": 2
}
