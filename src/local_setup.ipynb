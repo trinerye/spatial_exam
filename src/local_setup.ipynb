{
 "cells": [
  {
   "cell_type": "markdown",
   "metadata": {},
   "source": [
    "### Run the below code-block to install all the required libraries for the other notebooks"
   ]
  },
  {
   "cell_type": "code",
   "execution_count": null,
   "metadata": {},
   "outputs": [],
   "source": [
    "!pip install pandas geopandas polars numpy matplotlib ipympl openpyxl pyxlsb xlsx2csv opencage shapely tqdm ipywidgets contextily pointpats"
   ]
  }
 ],
 "metadata": {
  "language_info": {
   "name": "python"
  }
 },
 "nbformat": 4,
 "nbformat_minor": 2
}
