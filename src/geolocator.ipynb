{
 "cells": [
  {
   "cell_type": "markdown",
   "metadata": {},
   "source": [
    "# Opencage Geocoding"
   ]
  },
  {
   "cell_type": "code",
   "execution_count": null,
   "metadata": {},
   "outputs": [],
   "source": [
    "# if you dont already have the required libraries, you can install them by running this codeblock\n",
    "!pip install opencage shapely tqdm ipywidgets geopandas"
   ]
  },
  {
   "cell_type": "code",
   "execution_count": null,
   "metadata": {},
   "outputs": [],
   "source": [
    "import os\n",
    "# Creating paths\n",
    "in_folderpath = os.path.join(\"..\", \"in\")\n",
    "\n",
    "os.makedirs(in_folderpath, exist_ok=True)"
   ]
  },
  {
   "cell_type": "code",
   "execution_count": null,
   "metadata": {},
   "outputs": [],
   "source": [
    "import geopandas as gpd\n",
    "\n",
    "# Loading the data into A geopandas dataframe\n",
    "gdf = gpd.read_file(os.path.join(in_folderpath, \"datacentermap.csv\"))\n",
    "\n",
    "# Filtering the dataframe to only include locations within the US\n",
    "gdf_usa = gdf[gdf['country'] == 'USA']\n",
    "\n",
    "print(len(gdf_usa))"
   ]
  },
  {
   "cell_type": "markdown",
   "metadata": {},
   "source": [
    "We use opencage for our geocoding. If you want to run the script yourself, you'll need your own opencage API key, which can be obtained by signing up here: https://opencagedata.com/users/sign_up"
   ]
  },
  {
   "cell_type": "code",
   "execution_count": null,
   "metadata": {},
   "outputs": [],
   "source": [
    "from opencage.geocoder import OpenCageGeocode\n",
    "from shapely.geometry import Point\n",
    "from tqdm import tqdm"
   ]
  },
  {
   "cell_type": "code",
   "execution_count": null,
   "metadata": {},
   "outputs": [],
   "source": [
    "api_key = 'INSERT API KEY HERE'\n",
    "\n",
    "geolocator = OpenCageGeocode(api_key)\n",
    "\n",
    "# Iterate through each row to check and update geometry\n",
    "for i, row in tqdm(gdf_usa.iterrows(), desc=\"Geocoding Addresses\"):\n",
    "\n",
    "    if row['geometry'] is None or row['geometry'].is_empty:\n",
    "        # Creates an address for the geolocator\n",
    "        address = f\"{row['address']}, {row['postal']}, {row['city']}, {row['state']}, {row['country']}\"\n",
    "        print(f'Looking up: {address}')\n",
    "        # Returns a list of dictionaries with spatial information about the data center \n",
    "        location = geolocator.geocode(address)\n",
    "        print(f'Geocoding result: {location}')\n",
    "        \n",
    "        if location:\n",
    "\n",
    "            # Retrieves the geometry from the list of dictionaries\n",
    "            geometry = location[0]['geometry']\n",
    "\n",
    "            # Adds the retrived latitude and longditude to each row in data frame\n",
    "            gdf_usa.at[i, 'geometry'] = Point(geometry['lng'], geometry['lat'])\n",
    "            gdf_usa.at[i, 'latitude'] = geometry['lat']\n",
    "            gdf_usa.at[i, 'longitude'] = geometry['lng']\n",
    "        else:\n",
    "            print(\"Geometry not found\")\n",
    "\n",
    "\n",
    "gdf_usa_filtered = gdf_usa[gdf_usa['geometry'].notna()]\n",
    "\n",
    "print(len(gdf_usa_filtered))\n",
    "\n",
    "csv_path = os.path.join(in_folderpath, \"datacenters_usa.csv\")\n",
    "\n",
    "gdf_usa_filtered.to_csv(csv_path, index=False)\n",
    "\n",
    "print(\"GeoJSON file has been formatted and saved.\")"
   ]
  },
  {
   "cell_type": "markdown",
   "metadata": {},
   "source": [
    "## References \n",
    "\n",
    "### Nominatim\n",
    "\n",
    "https://medium.com/@gopesh3652/geocoding-with-python-using-nominatim-a-beginners-guide-220b250ca48d \n",
    "\n",
    "https://geopy.readthedocs.io/en/stable/ \n"
   ]
  }
 ],
 "metadata": {
  "kernelspec": {
   "display_name": "Python 3",
   "language": "python",
   "name": "python3"
  },
  "language_info": {
   "codemirror_mode": {
    "name": "ipython",
    "version": 3
   },
   "file_extension": ".py",
   "mimetype": "text/x-python",
   "name": "python",
   "nbconvert_exporter": "python",
   "pygments_lexer": "ipython3",
   "version": "3.11.8"
  }
 },
 "nbformat": 4,
 "nbformat_minor": 2
}
