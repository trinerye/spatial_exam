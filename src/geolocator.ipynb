{
 "cells": [
  {
   "cell_type": "markdown",
   "metadata": {},
   "source": [
    "# Opencage Geocoding"
   ]
  },
  {
   "cell_type": "code",
   "execution_count": null,
   "metadata": {},
   "outputs": [
    {
     "name": "stdout",
     "output_type": "stream",
     "text": [
      "Requirement already satisfied: opencage in c:\\users\\albin\\appdata\\local\\programs\\python\\python311\\lib\\site-packages (2.4.0)\n",
      "Requirement already satisfied: shapely in c:\\users\\albin\\appdata\\local\\programs\\python\\python311\\lib\\site-packages (2.0.4)\n",
      "Requirement already satisfied: tqdm in c:\\users\\albin\\appdata\\local\\programs\\python\\python311\\lib\\site-packages (4.66.4)\n",
      "Requirement already satisfied: Requests>=2.31.0 in c:\\users\\albin\\appdata\\local\\programs\\python\\python311\\lib\\site-packages (from opencage) (2.31.0)\n",
      "Requirement already satisfied: backoff>=2.2.1 in c:\\users\\albin\\appdata\\local\\programs\\python\\python311\\lib\\site-packages (from opencage) (2.2.1)\n",
      "Requirement already satisfied: numpy<3,>=1.14 in c:\\users\\albin\\appdata\\local\\programs\\python\\python311\\lib\\site-packages (from shapely) (1.26.4)\n",
      "Requirement already satisfied: colorama in c:\\users\\albin\\appdata\\local\\programs\\python\\python311\\lib\\site-packages (from tqdm) (0.4.6)\n",
      "Requirement already satisfied: charset-normalizer<4,>=2 in c:\\users\\albin\\appdata\\local\\programs\\python\\python311\\lib\\site-packages (from Requests>=2.31.0->opencage) (3.3.2)\n",
      "Requirement already satisfied: idna<4,>=2.5 in c:\\users\\albin\\appdata\\local\\programs\\python\\python311\\lib\\site-packages (from Requests>=2.31.0->opencage) (3.6)\n",
      "Requirement already satisfied: urllib3<3,>=1.21.1 in c:\\users\\albin\\appdata\\local\\programs\\python\\python311\\lib\\site-packages (from Requests>=2.31.0->opencage) (2.2.1)\n",
      "Requirement already satisfied: certifi>=2017.4.17 in c:\\users\\albin\\appdata\\local\\programs\\python\\python311\\lib\\site-packages (from Requests>=2.31.0->opencage) (2024.2.2)\n"
     ]
    }
   ],
   "source": [
    "# if you dont already have the required libraries, you can install them by running this codeblock\n",
    "!pip install opencage shapely tqdm ipywidgets geopandas"
   ]
  },
  {
   "cell_type": "code",
   "execution_count": 3,
   "metadata": {},
   "outputs": [],
   "source": [
    "import os\n",
    "# Creating paths\n",
    "in_folderpath = os.path.join(\"..\", \"in\")\n",
    "\n",
    "os.makedirs(in_folderpath, exist_ok=True)"
   ]
  },
  {
   "cell_type": "code",
   "execution_count": 5,
   "metadata": {},
   "outputs": [
    {
     "name": "stdout",
     "output_type": "stream",
     "text": [
      "2526\n"
     ]
    }
   ],
   "source": [
    "import geopandas as gpd\n",
    "\n",
    "# Loading the data into A geopandas dataframe\n",
    "gdf = gpd.read_file(os.path.join(in_folderpath, \"datacentermap.csv\"))\n",
    "\n",
    "# Filtering the dataframe to only include locations within the US\n",
    "gdf_usa = gdf[gdf['country'] == 'USA']\n",
    "\n",
    "print(len(gdf_usa))"
   ]
  },
  {
   "cell_type": "markdown",
   "metadata": {},
   "source": [
    "We use opencage for our geocoding. If you want to run the script yourself, you'll need your own opencage API key, which can be obtained by signing up here: https://opencagedata.com/users/sign_up"
   ]
  },
  {
   "cell_type": "code",
   "execution_count": 1,
   "metadata": {},
   "outputs": [],
   "source": [
    "from opencage.geocoder import OpenCageGeocode\n",
    "from shapely.geometry import Point\n",
    "from tqdm import tqdm"
   ]
  },
  {
   "cell_type": "code",
   "execution_count": 8,
   "metadata": {},
   "outputs": [
    {
     "name": "stderr",
     "output_type": "stream",
     "text": [
      "Geocoding Addresses: 0it [00:00, ?it/s]"
     ]
    },
    {
     "name": "stdout",
     "output_type": "stream",
     "text": [
      "Lokking up: 1 Ramland Rd, 10962, Orangeburg, New York, USA\n"
     ]
    },
    {
     "name": "stderr",
     "output_type": "stream",
     "text": [
      "Geocoding Addresses: 0it [00:00, ?it/s]"
     ]
    },
    {
     "name": "stdout",
     "output_type": "stream",
     "text": [
      "Geocoding result: [{'annotations': {'DMS': {'lat': \"41° 2' 3.65172'' N\", 'lng': \"73° 58' 32.73348'' W\"}, 'FIPS': {'county': '36087', 'state': '36'}, 'MGRS': '18TWL8609643075', 'Maidenhead': 'FN31aa28vf', 'Mercator': {'x': -8234943.856, 'y': 4989350.749}, 'OSM': {'edit_url': 'https://www.openstreetmap.org/edit?node=8788963998#map=17/41.03435/-73.97576', 'note_url': 'https://www.openstreetmap.org/note/new#map=17/41.03435/-73.97576&layers=N', 'url': 'https://www.openstreetmap.org/?mlat=41.03435&mlon=-73.97576#map=17/41.03435/-73.97576'}, 'UN_M49': {'regions': {'AMERICAS': '019', 'NORTHERN_AMERICA': '021', 'US': '840', 'WORLD': '001'}, 'statistical_groupings': ['MEDC']}, 'callingcode': 1, 'currency': {'alternate_symbols': ['US$'], 'decimal_mark': '.', 'disambiguate_symbol': 'US$', 'html_entity': '$', 'iso_code': 'USD', 'iso_numeric': '840', 'name': 'United States Dollar', 'smallest_denomination': 1, 'subunit': 'Cent', 'subunit_to_unit': 100, 'symbol': '$', 'symbol_first': 1, 'thousands_separator': ','}, 'flag': '🇺🇸', 'geohash': 'dr73kwh6rugfs6u7k9qr', 'qibla': 58.49, 'roadinfo': {'drive_on': 'right', 'road': 'Ramland Road', 'speed_in': 'mph'}, 'sun': {'rise': {'apparent': 1717752300, 'astronomical': 1717744800, 'civil': 1717750320, 'nautical': 1717747740}, 'set': {'apparent': 1717719900, 'astronomical': 1717727460, 'civil': 1717721880, 'nautical': 1717724460}}, 'timezone': {'name': 'America/New_York', 'now_in_dst': 1, 'offset_sec': -14400, 'offset_string': '-0400', 'short_name': 'EDT'}, 'what3words': {'words': 'spoil.sports.allow'}}, 'bounds': {'northeast': {'lat': 41.0343977, 'lng': -73.9757093}, 'southwest': {'lat': 41.0342977, 'lng': -73.9758093}}, 'components': {'ISO_3166-1_alpha-2': 'US', 'ISO_3166-1_alpha-3': 'USA', 'ISO_3166-2': ['US-NY'], '_category': 'building', '_normalized_city': 'Orangeburg', '_type': 'building', 'continent': 'North America', 'country': 'United States', 'country_code': 'us', 'county': 'Rockland County', 'house_number': '1', 'municipality': 'Town of Orangetown', 'postcode': '10962', 'road': 'Ramland Road', 'state': 'New York', 'state_code': 'NY', 'village': 'Orangeburg'}, 'confidence': 10, 'formatted': '1 Ramland Road, Orangeburg, Orangetown, NY 10962, United States of America', 'geometry': {'lat': 41.0343477, 'lng': -73.9757593}}, {'annotations': {'DMS': {'lat': \"41° 2' 0.54600'' N\", 'lng': \"73° 58' 37.78320'' W\"}, 'FIPS': {'state': '36'}, 'MGRS': '18TWL8597942978', 'Maidenhead': 'FN31aa28ra', 'Mercator': {'x': -8235100.004, 'y': 4989223.922}, 'OSM': {'note_url': 'https://www.openstreetmap.org/note/new#map=17/41.03348/-73.97716&layers=N', 'url': 'https://www.openstreetmap.org/?mlat=41.03348&mlon=-73.97716#map=17/41.03348/-73.97716'}, 'UN_M49': {'regions': {'AMERICAS': '019', 'NORTHERN_AMERICA': '021', 'US': '840', 'WORLD': '001'}, 'statistical_groupings': ['MEDC']}, 'callingcode': 1, 'currency': {'alternate_symbols': ['US$'], 'decimal_mark': '.', 'disambiguate_symbol': 'US$', 'html_entity': '$', 'iso_code': 'USD', 'iso_numeric': '840', 'name': 'United States Dollar', 'smallest_denomination': 1, 'subunit': 'Cent', 'subunit_to_unit': 100, 'symbol': '$', 'symbol_first': 1, 'thousands_separator': ','}, 'flag': '🇺🇸', 'geohash': 'dr73ktgmrhjbqsm0msfd', 'qibla': 58.49, 'roadinfo': {'drive_on': 'right', 'road': 'Ramland Rd', 'speed_in': 'mph'}, 'sun': {'rise': {'apparent': 1717752300, 'astronomical': 1717744800, 'civil': 1717750320, 'nautical': 1717747740}, 'set': {'apparent': 1717719900, 'astronomical': 1717727460, 'civil': 1717721880, 'nautical': 1717724460}}, 'timezone': {'name': 'America/New_York', 'now_in_dst': 1, 'offset_sec': -14400, 'offset_string': '-0400', 'short_name': 'EDT'}, 'what3words': {'words': 'ranch.gloves.cuts'}}, 'components': {'ISO_3166-1_alpha-2': 'US', 'ISO_3166-1_alpha-3': 'USA', 'ISO_3166-2': ['US-NY'], '_category': 'road', '_normalized_city': 'Orangeburg', '_type': 'road', 'continent': 'North America', 'country': 'United States of America', 'country_code': 'us', 'road': 'Ramland Rd', 'state': 'New York', 'state_code': 'NY', 'town': 'Orangeburg'}, 'confidence': 9, 'formatted': 'Ramland Rd, Orangeburg, NY, United States of America', 'geometry': {'lat': 41.033485, 'lng': -73.977162}}, {'annotations': {'DMS': {'lat': \"41° 2' 39.12000'' N\", 'lng': \"73° 57' 39.24000'' W\"}, 'FIPS': {'county': '36087', 'state': '36'}, 'MGRS': '18TWL8733244183', 'Maidenhead': 'FN31ab40qo', 'Mercator': {'x': -8233289.727, 'y': 4990799.274}, 'OSM': {'note_url': 'https://www.openstreetmap.org/note/new#map=17/41.04420/-73.96090&layers=N', 'url': 'https://www.openstreetmap.org/?mlat=41.04420&mlon=-73.96090#map=17/41.04420/-73.96090'}, 'UN_M49': {'regions': {'AMERICAS': '019', 'NORTHERN_AMERICA': '021', 'US': '840', 'WORLD': '001'}, 'statistical_groupings': ['MEDC']}, 'callingcode': 1, 'currency': {'alternate_symbols': ['US$'], 'decimal_mark': '.', 'disambiguate_symbol': 'US$', 'html_entity': '$', 'iso_code': 'USD', 'iso_numeric': '840', 'name': 'United States Dollar', 'smallest_denomination': 1, 'subunit': 'Cent', 'subunit_to_unit': 100, 'symbol': '$', 'symbol_first': 1, 'thousands_separator': ','}, 'flag': '🇺🇸', 'geohash': 'dr73kzz7f17vc55h4rb8', 'qibla': 58.5, 'roadinfo': {'drive_on': 'right', 'speed_in': 'mph'}, 'sun': {'rise': {'apparent': 1717752300, 'astronomical': 1717744800, 'civil': 1717750320, 'nautical': 1717747740}, 'set': {'apparent': 1717719900, 'astronomical': 1717727460, 'civil': 1717721880, 'nautical': 1717724460}}, 'timezone': {'name': 'America/New_York', 'now_in_dst': 1, 'offset_sec': -14400, 'offset_string': '-0400', 'short_name': 'EDT'}, 'what3words': {'words': 'forgot.knots.legend'}}, 'bounds': {'northeast': {'lat': 41.078541, 'lng': -73.921988}, 'southwest': {'lat': 41.026197, 'lng': -73.999781}}, 'components': {'ISO_3166-1_alpha-2': 'US', 'ISO_3166-1_alpha-3': 'USA', 'ISO_3166-2': ['US-NY'], '_category': 'postcode', '_type': 'postcode', 'continent': 'North America', 'country': 'United States of America', 'country_code': 'us', 'county': 'Rockland County', 'postcode': '10962', 'state': 'New York', 'state_code': 'NY'}, 'confidence': 7, 'formatted': 'Rockland County, NY 10962, United States of America', 'geometry': {'lat': 41.0442, 'lng': -73.9609}}]\n",
      "0\n",
      "GeoJSON file has been formatted and saved.\n"
     ]
    },
    {
     "name": "stderr",
     "output_type": "stream",
     "text": [
      "\n"
     ]
    }
   ],
   "source": [
    "api_key = 'INSERT API KEY HERE'\n",
    "\n",
    "geolocator = OpenCageGeocode(api_key)\n",
    "\n",
    "# Iterate through each row to check and update geometry\n",
    "for i, row in tqdm(gdf_usa.iterrows(), desc=\"Geocoding Addresses\"):\n",
    "\n",
    "    if row['geometry'] is None or row['geometry'].is_empty:\n",
    "        # Creates an address for the geolocator\n",
    "        address = f\"{row['address']}, {row['postal']}, {row['city']}, {row['state']}, {row['country']}\"\n",
    "        print(f'Looking up: {address}')\n",
    "        # Returns a list of dictionaries with spatial information about the data center \n",
    "        location = geolocator.geocode(address)\n",
    "        print(f'Geocoding result: {location}')\n",
    "        \n",
    "        if location:\n",
    "\n",
    "            # Retrieves the geometry from the list of dictionaries\n",
    "            geometry = location[0]['geometry']\n",
    "\n",
    "            # Adds the retrived latitude and longditude to each row in data frame\n",
    "            gdf_usa.at[i, 'geometry'] = Point(geometry['lng'], geometry['lat'])\n",
    "            gdf_usa.at[i, 'latitude'] = geometry['lat']\n",
    "            gdf_usa.at[i, 'longitude'] = geometry['lng']\n",
    "        else:\n",
    "            print(\"Geometry not found\")\n",
    "\n",
    "\n",
    "gdf_usa_filtered = gdf_usa[gdf_usa['geometry'].notna()]\n",
    "\n",
    "print(len(gdf_usa_filtered))\n",
    "\n",
    "csv_path = os.path.join(in_folderpath, \"datacenters_usa.csv\")\n",
    "\n",
    "gdf_usa_filtered.to_csv(csv_path, index=False)\n",
    "\n",
    "print(\"GeoJSON file has been formatted and saved.\")"
   ]
  },
  {
   "cell_type": "markdown",
   "metadata": {},
   "source": [
    "## References \n",
    "\n",
    "### Nominatim\n",
    "\n",
    "https://medium.com/@gopesh3652/geocoding-with-python-using-nominatim-a-beginners-guide-220b250ca48d \n",
    "\n",
    "https://geopy.readthedocs.io/en/stable/ \n"
   ]
  }
 ],
 "metadata": {
  "kernelspec": {
   "display_name": "Python 3",
   "language": "python",
   "name": "python3"
  },
  "language_info": {
   "codemirror_mode": {
    "name": "ipython",
    "version": 3
   },
   "file_extension": ".py",
   "mimetype": "text/x-python",
   "name": "python",
   "nbconvert_exporter": "python",
   "pygments_lexer": "ipython3",
   "version": "3.11.8"
  }
 },
 "nbformat": 4,
 "nbformat_minor": 2
}
