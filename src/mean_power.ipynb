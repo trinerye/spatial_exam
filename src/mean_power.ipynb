{
 "cells": [
  {
   "cell_type": "code",
   "execution_count": null,
   "metadata": {},
   "outputs": [],
   "source": [
    "# if you dont already have the required libraries for this notebook, you can install them by running this codeblock\n",
    "!pip install polars openpyxl pyxlsb xlsx2csv"
   ]
  },
  {
   "cell_type": "code",
   "execution_count": 1,
   "metadata": {},
   "outputs": [],
   "source": [
    "#Importing os & Polars\n",
    "import os\n",
    "import polars as pl"
   ]
  },
  {
   "cell_type": "code",
   "execution_count": 2,
   "metadata": {},
   "outputs": [],
   "source": [
    "# Reads Excel file into a Polars DataFrame\n",
    "power_prices = pl.read_excel(os.path.join(\"..\", \"in\", \"avgprice_annual.xlsx\"))"
   ]
  },
  {
   "cell_type": "code",
   "execution_count": 3,
   "metadata": {},
   "outputs": [],
   "source": [
    "# Removes the first row\n",
    "power_prices = power_prices.slice(1, len(power_prices) - 1)"
   ]
  },
  {
   "cell_type": "code",
   "execution_count": 4,
   "metadata": {},
   "outputs": [],
   "source": [
    "# Setting names to rename columns\n",
    "new_column_names = {\n",
    "    \"Average Price (Cents/kilowatthour) by State by Provider, 1990-2020\": \"Year\",\n",
    "    \"\": \"State\",\n",
    "    \"_duplicated_0\": \"Industry Sector Category\",\n",
    "    \"_duplicated_1\": \"Residential\",\n",
    "    \"_duplicated_2\": \"Commercial\",\n",
    "    \"_duplicated_3\": \"Industrial\",\n",
    "    \"_duplicated_4\": \"Transportation\",\n",
    "    \"_duplicated_5\": \"Other\",\n",
    "    \"_duplicated_6\": \"Total\",\n",
    "    }\n",
    "\n",
    "# Renaming columns\n",
    "power_prices = power_prices.rename(new_column_names)"
   ]
  },
  {
   "cell_type": "code",
   "execution_count": 6,
   "metadata": {},
   "outputs": [],
   "source": [
    "# Casting Year as floats\n",
    "power_prices = power_prices.with_columns(pl.col(\"Year\").cast(pl.Float64))\n",
    "\n",
    "# Only look at data from 2020 in the year column\n",
    "#exclude the column for the entire US, as well as DC\n",
    "power_prices = power_prices.filter((pl.col(\"Year\") == 2020) & (pl.col(\"State\") != \"US\") & (pl.col(\"State\") != \"DC\"))\n"
   ]
  },
  {
   "cell_type": "code",
   "execution_count": 7,
   "metadata": {},
   "outputs": [],
   "source": [
    "# Only look at the Total Electric Industry in the Industry Sector Column\n",
    "power_prices = power_prices.filter(pl.col(\"Industry Sector Category\") == \"Total Electric Industry\")\n",
    "\n",
    "# Casting Industrial as floats\n",
    "power_prices = power_prices.with_columns(pl.col(\"Industrial\").cast(pl.Float64))"
   ]
  },
  {
   "cell_type": "code",
   "execution_count": 8,
   "metadata": {},
   "outputs": [],
   "source": [
    "# Calculate the mean of the \"Industrial\" column\n",
    "mean_value = power_prices.select(pl.col(\"Industrial\").mean().alias(\"mean\"))\n",
    "\n",
    "over_mean = power_prices.filter(pl.col(\"Industrial\") > mean_value[\"mean\"][0])\n",
    "\n",
    "# Filter the data frames to only contain entries under the mean\n",
    "under_mean = power_prices.filter(pl.col(\"Industrial\") < mean_value[\"mean\"][0])"
   ]
  },
  {
   "cell_type": "code",
   "execution_count": 9,
   "metadata": {},
   "outputs": [
    {
     "name": "stdout",
     "output_type": "stream",
     "text": [
      "shape: (1, 1)\n",
      "┌───────┐\n",
      "│ mean  │\n",
      "│ ---   │\n",
      "│ f64   │\n",
      "╞═══════╡\n",
      "│ 7.845 │\n",
      "└───────┘\n",
      "shape: (10, 9)\n",
      "┌────────┬───────┬─────────────────┬─────────────┬───┬────────────┬────────────────┬───────┬───────┐\n",
      "│ Year   ┆ State ┆ Industry Sector ┆ Residential ┆ … ┆ Industrial ┆ Transportation ┆ Other ┆ Total │\n",
      "│ ---    ┆ ---   ┆ Category        ┆ ---         ┆   ┆ ---        ┆ ---            ┆ ---   ┆ ---   │\n",
      "│ f64    ┆ str   ┆ ---             ┆ str         ┆   ┆ f64        ┆ str            ┆ str   ┆ str   │\n",
      "│        ┆       ┆ str             ┆             ┆   ┆            ┆                ┆       ┆       │\n",
      "╞════════╪═══════╪═════════════════╪═════════════╪═══╪════════════╪════════════════╪═══════╪═══════╡\n",
      "│ 2020.0 ┆ AK    ┆ Total Electric  ┆ 22.57       ┆ … ┆ 15.88      ┆ 0              ┆ NA    ┆ 19.82 │\n",
      "│        ┆       ┆ Industry        ┆             ┆   ┆            ┆                ┆       ┆       │\n",
      "│ 2020.0 ┆ CA    ┆ Total Electric  ┆ 20.45       ┆ … ┆ 14.27      ┆ 10.07          ┆ NA    ┆ 18    │\n",
      "│        ┆       ┆ Industry        ┆             ┆   ┆            ┆                ┆       ┆       │\n",
      "│ 2020.0 ┆ CT    ┆ Total Electric  ┆ 22.71       ┆ … ┆ 13.07      ┆ 13.34          ┆ NA    ┆ 19.13 │\n",
      "│        ┆       ┆ Industry        ┆             ┆   ┆            ┆                ┆       ┆       │\n",
      "│ 2020.0 ┆ HI    ┆ Total Electric  ┆ 30.28       ┆ … ┆ 24.45      ┆ 0              ┆ NA    ┆ 27.55 │\n",
      "│        ┆       ┆ Industry        ┆             ┆   ┆            ┆                ┆       ┆       │\n",
      "│ 2020.0 ┆ MA    ┆ Total Electric  ┆ 21.97       ┆ … ┆ 14.51      ┆ 6.24           ┆ NA    ┆ 18.19 │\n",
      "│        ┆       ┆ Industry        ┆             ┆   ┆            ┆                ┆       ┆       │\n",
      "│ 2020.0 ┆ ME    ┆ Total Electric  ┆ 16.81       ┆ … ┆ 8.86       ┆ 0              ┆ NA    ┆ 13.54 │\n",
      "│        ┆       ┆ Industry        ┆             ┆   ┆            ┆                ┆       ┆       │\n",
      "│ 2020.0 ┆ NH    ┆ Total Electric  ┆ 19.04       ┆ … ┆ 13.11      ┆ 0              ┆ NA    ┆ 16.63 │\n",
      "│        ┆       ┆ Industry        ┆             ┆   ┆            ┆                ┆       ┆       │\n",
      "│ 2020.0 ┆ NJ    ┆ Total Electric  ┆ 16.03       ┆ … ┆ 10.01      ┆ 9.19           ┆ NA    ┆ 13.63 │\n",
      "│        ┆       ┆ Industry        ┆             ┆   ┆            ┆                ┆       ┆       │\n",
      "│ 2020.0 ┆ RI    ┆ Total Electric  ┆ 22.01       ┆ … ┆ 15.76      ┆ 22.23          ┆ NA    ┆ 18.54 │\n",
      "│        ┆       ┆ Industry        ┆             ┆   ┆            ┆                ┆       ┆       │\n",
      "│ 2020.0 ┆ VT    ┆ Total Electric  ┆ 19.54       ┆ … ┆ 11.2       ┆ 0              ┆ NA    ┆ 16.33 │\n",
      "│        ┆       ┆ Industry        ┆             ┆   ┆            ┆                ┆       ┆       │\n",
      "└────────┴───────┴─────────────────┴─────────────┴───┴────────────┴────────────────┴───────┴───────┘\n"
     ]
    }
   ],
   "source": [
    "print(mean_value)\n",
    "print(over_mean.head(11))"
   ]
  },
  {
   "cell_type": "code",
   "execution_count": null,
   "metadata": {},
   "outputs": [],
   "source": []
  }
 ],
 "metadata": {
  "kernelspec": {
   "display_name": "Python 3",
   "language": "python",
   "name": "python3"
  },
  "language_info": {
   "codemirror_mode": {
    "name": "ipython",
    "version": 3
   },
   "file_extension": ".py",
   "mimetype": "text/x-python",
   "name": "python",
   "nbconvert_exporter": "python",
   "pygments_lexer": "ipython3",
   "version": "3.11.8"
  }
 },
 "nbformat": 4,
 "nbformat_minor": 2
}
