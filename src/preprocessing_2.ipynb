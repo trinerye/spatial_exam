{
 "cells": [
  {
   "cell_type": "code",
   "execution_count": null,
   "metadata": {},
   "outputs": [],
   "source": [
    "# pip install geopandas, geopy, opencage, ipywidgets (for tqdm)"
   ]
  },
  {
   "cell_type": "code",
   "execution_count": 1,
   "metadata": {},
   "outputs": [],
   "source": [
    "import os\n",
    "# Creating paths\n",
    "in_folderpath = os.path.join(\"..\", \"in\")\n",
    "\n",
    "os.makedirs(in_folderpath, exist_ok=True)"
   ]
  },
  {
   "cell_type": "code",
   "execution_count": 3,
   "metadata": {},
   "outputs": [
    {
     "name": "stdout",
     "output_type": "stream",
     "text": [
      "2526\n"
     ]
    }
   ],
   "source": [
    "import geopandas as gpd\n",
    "\n",
    "# Loading the data into A geopandas dataframe\n",
    "gdf = gpd.read_file(os.path.join(in_folderpath, \"datacenters.geojson\"))\n",
    "\n",
    "# Filtering the dataframe to only include locations within the US\n",
    "gdf_usa = gdf[gdf['country'] == 'USA']\n",
    "\n",
    "print(len(gdf_usa))"
   ]
  },
  {
   "cell_type": "markdown",
   "metadata": {},
   "source": [
    "## Correct way of using the geolocator"
   ]
  },
  {
   "cell_type": "code",
   "execution_count": 6,
   "metadata": {},
   "outputs": [],
   "source": [
    "from geopy.geocoders import Nominatim\n",
    "from geopy.geocoders import mapbox\n",
    "from shapely.geometry import Point\n",
    "import json\n",
    "import time\n",
    "from tqdm import tqdm\n",
    "\n",
    "email_address = \"lavin.yael@moongit.com\"\n",
    "\n",
    "geolocator = Nominatim(user_agent=email_address)\n",
    "\n",
    "\n"
   ]
  },
  {
   "cell_type": "code",
   "execution_count": 7,
   "metadata": {},
   "outputs": [
    {
     "name": "stderr",
     "output_type": "stream",
     "text": [
      "Processing missing datacenter locations:: 0it [00:00, ?it/s]"
     ]
    },
    {
     "name": "stdout",
     "output_type": "stream",
     "text": [
      "Primary address: 101 Possumtown Rd, 08854, Piscataway, New Jersey, USA\n",
      "geocode location: QTS Piscataway, 101, Possumtown Road, Possumtown, Piscataway Township, Middlesex County, New Jersey, 08854, United States\n"
     ]
    },
    {
     "name": "stderr",
     "output_type": "stream",
     "text": [
      "Processing missing datacenter locations:: 75it [00:02, 30.13it/s]"
     ]
    },
    {
     "name": "stdout",
     "output_type": "stream",
     "text": [
      "Primary address: SECRET, within 2 mile from Interstate, 58103, Fargo, North Dakota, USA\n",
      "geocode location: None\n",
      "Primary address didnt not return a geocoding location. Trying alternate address\n",
      "Alternate address: 58103, Fargo, North Dakota, USA\n",
      "alternate geocode location: None\n"
     ]
    },
    {
     "name": "stderr",
     "output_type": "stream",
     "text": [
      "Processing missing datacenter locations:: 153it [00:07, 19.70it/s]"
     ]
    },
    {
     "name": "stdout",
     "output_type": "stream",
     "text": [
      "Primary address: 412 E Madison St suite 1010, 33602, Tampa, Florida, USA\n",
      "geocode location: None\n",
      "Primary address didnt not return a geocoding location. Trying alternate address\n",
      "Alternate address: 33602, Tampa, Florida, USA\n",
      "alternate geocode location: None\n"
     ]
    },
    {
     "name": "stderr",
     "output_type": "stream",
     "text": [
      "Processing missing datacenter locations:: 180it [00:12, 11.73it/s]"
     ]
    },
    {
     "name": "stdout",
     "output_type": "stream",
     "text": [
      "Primary address: SECRET, within 1/4 mile from the address, 98027, Issaquah, Washington, USA\n",
      "geocode location: None\n",
      "Primary address didnt not return a geocoding location. Trying alternate address\n",
      "Alternate address: 98027, Issaquah, Washington, USA\n",
      "alternate geocode location: None\n"
     ]
    },
    {
     "name": "stderr",
     "output_type": "stream",
     "text": [
      "Processing missing datacenter locations:: 182it [00:17,  7.13it/s]"
     ]
    },
    {
     "name": "stdout",
     "output_type": "stream",
     "text": [
      "No geocoded locations found for 98027, Issaquah, Washington, USA\n",
      "Primary address: SECRET, within Outskirts of Wenatchee WA, 98801, Wenatchee, Washington, USA\n",
      "geocode location: None\n",
      "Primary address didnt not return a geocoding location. Trying alternate address\n",
      "Alternate address: 98801, Wenatchee, Washington, USA\n",
      "alternate geocode location: None\n"
     ]
    },
    {
     "name": "stderr",
     "output_type": "stream",
     "text": [
      "Processing missing datacenter locations:: 441it [00:23, 22.26it/s]"
     ]
    },
    {
     "name": "stdout",
     "output_type": "stream",
     "text": [
      "Primary address: 316 Bel Air Blvd, 36606, Mobile, Alabama, USA\n",
      "geocode location: 316, Bel Air Boulevard, Mobile, Mobile County, Alabama, 36606, United States\n"
     ]
    },
    {
     "name": "stderr",
     "output_type": "stream",
     "text": [
      "Processing missing datacenter locations:: 444it [00:25, 18.43it/s]"
     ]
    },
    {
     "name": "stdout",
     "output_type": "stream",
     "text": [
      "Primary address: SECRET, within Hwy 215, 28772, Rosman, North Carolina, USA\n",
      "geocode location: None\n",
      "Primary address didnt not return a geocoding location. Trying alternate address\n",
      "Alternate address: 28772, Rosman, North Carolina, USA\n",
      "alternate geocode location: None\n"
     ]
    },
    {
     "name": "stderr",
     "output_type": "stream",
     "text": [
      "Processing missing datacenter locations:: 470it [00:32, 11.99it/s]"
     ]
    },
    {
     "name": "stdout",
     "output_type": "stream",
     "text": [
      "Primary address: 300 Bent St., 02141, Cambridge, Massachusetts, USA\n",
      "geocode location: 300, Bent Street, Wellington-Harrington, East Cambridge, Cambridge, Middlesex County, Massachusetts, 02141, United States\n"
     ]
    },
    {
     "name": "stderr",
     "output_type": "stream",
     "text": [
      "Processing missing datacenter locations:: 533it [00:34, 14.74it/s]"
     ]
    },
    {
     "name": "stdout",
     "output_type": "stream",
     "text": [
      "Primary address: SECRET, within 10 miles from downtown Columbus, 43017, Dublin, Ohio, USA\n",
      "geocode location: None\n",
      "Primary address didnt not return a geocoding location. Trying alternate address\n",
      "Alternate address: 43017, Dublin, Ohio, USA\n",
      "alternate geocode location: None\n"
     ]
    },
    {
     "name": "stderr",
     "output_type": "stream",
     "text": [
      "Processing missing datacenter locations:: 566it [00:40, 11.77it/s]"
     ]
    },
    {
     "name": "stdout",
     "output_type": "stream",
     "text": [
      "Primary address: SECRET, within the Ashburn Data Center Valley, 20147, Ashburn, Virginia, USA\n",
      "geocode location: None\n",
      "Primary address didnt not return a geocoding location. Trying alternate address\n",
      "Alternate address: 20147, Ashburn, Virginia, USA\n",
      "alternate geocode location: None\n"
     ]
    },
    {
     "name": "stderr",
     "output_type": "stream",
     "text": [
      "Processing missing datacenter locations:: 596it [00:44, 10.12it/s]"
     ]
    },
    {
     "name": "stdout",
     "output_type": "stream",
     "text": [
      "Primary address: SECRET, within the Ashburn Data Center Valley, 20147, Ashburn, Virginia, USA\n",
      "geocode location: None\n",
      "Primary address didnt not return a geocoding location. Trying alternate address\n",
      "Alternate address: 20147, Ashburn, Virginia, USA\n",
      "alternate geocode location: None\n",
      "Primary address: SECRET, within the Ashburn Data Center Valley, 20147, Ashburn, Virginia, USA\n",
      "geocode location: None\n",
      "Primary address didnt not return a geocoding location. Trying alternate address\n",
      "Alternate address: 20147, Ashburn, Virginia, USA\n",
      "alternate geocode location: None\n"
     ]
    },
    {
     "name": "stderr",
     "output_type": "stream",
     "text": [
      "Processing missing datacenter locations:: 598it [00:53,  5.47it/s]"
     ]
    },
    {
     "name": "stdout",
     "output_type": "stream",
     "text": [
      "Primary address: SECRET, within the Ashburn Data Center Valley, 20147, Ashburn, Virginia, USA\n",
      "geocode location: None\n",
      "Primary address didnt not return a geocoding location. Trying alternate address\n",
      "Alternate address: 20147, Ashburn, Virginia, USA\n",
      "alternate geocode location: None\n"
     ]
    },
    {
     "name": "stderr",
     "output_type": "stream",
     "text": [
      "Processing missing datacenter locations:: 599it [00:59,  3.90it/s]"
     ]
    },
    {
     "name": "stdout",
     "output_type": "stream",
     "text": [
      "Primary address: SECRET, within the Ashburn Data Center Valley, 20147, Ashburn, Virginia, USA\n",
      "geocode location: None\n",
      "Primary address didnt not return a geocoding location. Trying alternate address\n",
      "Alternate address: 20147, Ashburn, Virginia, USA\n",
      "alternate geocode location: None\n"
     ]
    },
    {
     "name": "stderr",
     "output_type": "stream",
     "text": [
      "Processing missing datacenter locations:: 600it [01:03,  2.98it/s]"
     ]
    },
    {
     "name": "stdout",
     "output_type": "stream",
     "text": [
      "Primary address: SECRET, within the Ashburn Data Center Valley, 20147, Ashburn, Virginia, USA\n",
      "geocode location: None\n",
      "Primary address didnt not return a geocoding location. Trying alternate address\n",
      "Alternate address: 20147, Ashburn, Virginia, USA\n",
      "alternate geocode location: None\n"
     ]
    },
    {
     "name": "stderr",
     "output_type": "stream",
     "text": [
      "Processing missing datacenter locations:: 602it [01:08,  2.30it/s]"
     ]
    },
    {
     "name": "stdout",
     "output_type": "stream",
     "text": [
      "Primary address: SECRET, within the Ashburn Data Center Valley, 20147, Ashburn, Virginia, USA\n",
      "geocode location: None\n",
      "Primary address didnt not return a geocoding location. Trying alternate address\n",
      "Alternate address: 20147, Ashburn, Virginia, USA\n",
      "alternate geocode location: None\n"
     ]
    },
    {
     "name": "stderr",
     "output_type": "stream",
     "text": [
      "Processing missing datacenter locations:: 603it [01:12,  1.74it/s]"
     ]
    },
    {
     "name": "stdout",
     "output_type": "stream",
     "text": [
      "Primary address: SECRET, within the Ashburn Data Center Valley, 20147, Ashburn, Virginia, USA\n",
      "geocode location: None\n",
      "Primary address didnt not return a geocoding location. Trying alternate address\n",
      "Alternate address: 20147, Ashburn, Virginia, USA\n",
      "alternate geocode location: None\n"
     ]
    },
    {
     "name": "stderr",
     "output_type": "stream",
     "text": [
      "Processing missing datacenter locations:: 604it [01:17,  1.30it/s]"
     ]
    },
    {
     "name": "stdout",
     "output_type": "stream",
     "text": [
      "Primary address: SECRET, within the Ashburn Data Center Valley, 20147, Ashburn, Virginia, USA\n",
      "geocode location: None\n",
      "Primary address didnt not return a geocoding location. Trying alternate address\n",
      "Alternate address: 20147, Ashburn, Virginia, USA\n",
      "alternate geocode location: None\n"
     ]
    },
    {
     "name": "stderr",
     "output_type": "stream",
     "text": [
      "Processing missing datacenter locations:: 605it [01:21,  1.01s/it]"
     ]
    },
    {
     "name": "stdout",
     "output_type": "stream",
     "text": [
      "Primary address: SECRET, within the Ashburn Data Center Valley, 20147, Ashburn, Virginia, USA\n",
      "geocode location: None\n",
      "Primary address didnt not return a geocoding location. Trying alternate address\n",
      "Alternate address: 20147, Ashburn, Virginia, USA\n",
      "alternate geocode location: None\n"
     ]
    },
    {
     "name": "stderr",
     "output_type": "stream",
     "text": [
      "Processing missing datacenter locations:: 606it [01:27,  1.40s/it]"
     ]
    },
    {
     "name": "stdout",
     "output_type": "stream",
     "text": [
      "Primary address: SECRET, within Chaska, southwest of downtown Minneapolis, 55318, Chaska, Minnesota, USA\n",
      "geocode location: None\n",
      "Primary address didnt not return a geocoding location. Trying alternate address\n",
      "Alternate address: 55318, Chaska, Minnesota, USA\n",
      "alternate geocode location: None\n"
     ]
    },
    {
     "name": "stderr",
     "output_type": "stream",
     "text": [
      "Processing missing datacenter locations:: 617it [01:32,  1.19it/s]"
     ]
    },
    {
     "name": "stdout",
     "output_type": "stream",
     "text": [
      "Primary address: 55 Main Street, 13676, Potsdam, New York, USA\n",
      "geocode location: 55, Main Street, Village of Potsdam, Town of Potsdam, Saint Lawrence County, New York, 13676, United States\n"
     ]
    },
    {
     "name": "stderr",
     "output_type": "stream",
     "text": [
      "Processing missing datacenter locations:: 686it [01:34,  5.90it/s]"
     ]
    },
    {
     "name": "stdout",
     "output_type": "stream",
     "text": [
      "Primary address: 2200 Busse Road, 60007, Elk Grove Village, Illinois, USA\n",
      "geocode location: 2200, Busse Road, Elk Grove Village, Elk Grove Township, Cook County, Illinois, 60007, United States\n"
     ]
    },
    {
     "name": "stderr",
     "output_type": "stream",
     "text": [
      "Processing missing datacenter locations:: 715it [01:36,  7.23it/s]"
     ]
    },
    {
     "name": "stdout",
     "output_type": "stream",
     "text": [
      "Primary address: 34 Peachtree Street, 30303, Atlanta, Georgia, USA\n",
      "geocode location: 34 Peachtree, 34, Peachtree Street Northeast, Five Points, Atlanta, Fulton County, Georgia, 30303, United States\n"
     ]
    },
    {
     "name": "stderr",
     "output_type": "stream",
     "text": [
      "Processing missing datacenter locations:: 717it [01:39,  5.86it/s]"
     ]
    },
    {
     "name": "stdout",
     "output_type": "stream",
     "text": [
      "Primary address: 101 Possumtown Rd., 08854, Piscataway, New Jersey, USA\n",
      "geocode location: QTS Piscataway, 101, Possumtown Road, Possumtown, Piscataway Township, Middlesex County, New Jersey, 08854, United States\n"
     ]
    },
    {
     "name": "stderr",
     "output_type": "stream",
     "text": [
      "Processing missing datacenter locations:: 719it [01:41,  4.77it/s]"
     ]
    },
    {
     "name": "stdout",
     "output_type": "stream",
     "text": [
      "Primary address: 55 S. Market Street, 95113, San Jose, California, USA\n",
      "geocode location: Tower 55, 55, South Market Street, Downtown Historic District, San Jose, Santa Clara County, California, 95113, United States\n"
     ]
    },
    {
     "name": "stderr",
     "output_type": "stream",
     "text": [
      "Processing missing datacenter locations:: 721it [01:43,  3.68it/s]"
     ]
    },
    {
     "name": "stdout",
     "output_type": "stream",
     "text": [
      "Primary address: SECRET, within half mile from Northwestern Hwy and 10 Mile, 48075, Southfield, Michigan, USA\n",
      "geocode location: None\n",
      "Primary address didnt not return a geocoding location. Trying alternate address\n",
      "Alternate address: 48075, Southfield, Michigan, USA\n",
      "alternate geocode location: None\n"
     ]
    },
    {
     "name": "stderr",
     "output_type": "stream",
     "text": [
      "Processing missing datacenter locations:: 747it [01:48,  4.31it/s]"
     ]
    },
    {
     "name": "stdout",
     "output_type": "stream",
     "text": [
      "Primary address: SECRET, within the city Mesa, 85212, Mesa, Arizona, USA\n",
      "geocode location: None\n",
      "Primary address didnt not return a geocoding location. Trying alternate address\n",
      "Alternate address: 85212, Mesa, Arizona, USA\n",
      "alternate geocode location: None\n"
     ]
    },
    {
     "name": "stderr",
     "output_type": "stream",
     "text": [
      "Processing missing datacenter locations:: 757it [01:53,  3.55it/s]"
     ]
    },
    {
     "name": "stdout",
     "output_type": "stream",
     "text": [
      "Primary address: SECRET, within 7 miles of downtown Salt Lake City, 84120, West Valley City, Utah, USA\n",
      "geocode location: None\n",
      "Primary address didnt not return a geocoding location. Trying alternate address\n",
      "Alternate address: 84120, West Valley City, Utah, USA\n",
      "alternate geocode location: None\n"
     ]
    },
    {
     "name": "stderr",
     "output_type": "stream",
     "text": [
      "Processing missing datacenter locations:: 770it [01:58,  3.26it/s]"
     ]
    },
    {
     "name": "stdout",
     "output_type": "stream",
     "text": [
      "Primary address: SECRET, within 20 miles of downtown Salt Lake City, 84084, West Jordan, Utah, USA\n",
      "geocode location: None\n",
      "Primary address didnt not return a geocoding location. Trying alternate address\n",
      "Alternate address: 84084, West Jordan, Utah, USA\n",
      "alternate geocode location: None\n"
     ]
    },
    {
     "name": "stderr",
     "output_type": "stream",
     "text": [
      "Processing missing datacenter locations:: 771it [02:03,  2.23it/s]"
     ]
    },
    {
     "name": "stdout",
     "output_type": "stream",
     "text": [
      "Primary address: SECRET, within 2 miles of downtown Salt Lake City, 84104, Salt Lake City, Utah, USA\n",
      "geocode location: None\n",
      "Primary address didnt not return a geocoding location. Trying alternate address\n",
      "Alternate address: 84104, Salt Lake City, Utah, USA\n",
      "alternate geocode location: None\n"
     ]
    },
    {
     "name": "stderr",
     "output_type": "stream",
     "text": [
      "Processing missing datacenter locations:: 772it [02:07,  1.60it/s]"
     ]
    },
    {
     "name": "stdout",
     "output_type": "stream",
     "text": [
      "Primary address: 101 Possumtown Rd, 08854, Piscataway, New Jersey, USA\n",
      "geocode location: QTS Piscataway, 101, Possumtown Road, Possumtown, Piscataway Township, Middlesex County, New Jersey, 08854, United States\n"
     ]
    },
    {
     "name": "stderr",
     "output_type": "stream",
     "text": [
      "Processing missing datacenter locations:: 773it [02:09,  1.40it/s]"
     ]
    },
    {
     "name": "stdout",
     "output_type": "stream",
     "text": [
      "Primary address: SECRET, within 2 miles from city center, 30721, Dalton, GA, Georgia, USA\n",
      "geocode location: None\n",
      "Primary address didnt not return a geocoding location. Trying alternate address\n",
      "Alternate address: 30721, Dalton, GA, Georgia, USA\n",
      "alternate geocode location: None\n"
     ]
    },
    {
     "name": "stderr",
     "output_type": "stream",
     "text": [
      "Processing missing datacenter locations:: 780it [02:14,  1.41it/s]"
     ]
    },
    {
     "name": "stdout",
     "output_type": "stream",
     "text": [
      "Primary address: SECRET, within the Data Center Alley in Northern Virginia with immediate access to State Routes 7 and 28, 20166, Sterling, Virginia, USA\n",
      "geocode location: None\n",
      "Primary address didnt not return a geocoding location. Trying alternate address\n",
      "Alternate address: 20166, Sterling, Virginia, USA\n",
      "alternate geocode location: None\n"
     ]
    },
    {
     "name": "stderr",
     "output_type": "stream",
     "text": [
      "Processing missing datacenter locations:: 803it [02:20,  2.41it/s]"
     ]
    },
    {
     "name": "stdout",
     "output_type": "stream",
     "text": [
      "Primary address: 6425 Southpoint Parkway, 32216, Jacksonville, Florida, USA\n",
      "geocode location: 6425, Southpoint Parkway, Greenfield Manor, Jacksonville, Duval County, Florida, 32216, United States\n"
     ]
    },
    {
     "name": "stderr",
     "output_type": "stream",
     "text": [
      "Processing missing datacenter locations:: 818it [02:22,  3.18it/s]"
     ]
    },
    {
     "name": "stdout",
     "output_type": "stream",
     "text": [
      "Primary address: SECRET, within 5 Miles from Battle Creek MI, 49053, Battle Creek MI, Michigan, USA\n",
      "geocode location: None\n",
      "Primary address didnt not return a geocoding location. Trying alternate address\n",
      "Alternate address: 49053, Battle Creek MI, Michigan, USA\n",
      "alternate geocode location: None\n"
     ]
    },
    {
     "name": "stderr",
     "output_type": "stream",
     "text": [
      "Processing missing datacenter locations:: 819it [02:27,  2.13it/s]"
     ]
    },
    {
     "name": "stdout",
     "output_type": "stream",
     "text": [
      "Primary address: SECRET, within 10 miles from downtown, 294812, Charleston, South Carolina, USA\n",
      "geocode location: None\n",
      "Primary address didnt not return a geocoding location. Trying alternate address\n",
      "Alternate address: 294812, Charleston, South Carolina, USA\n",
      "alternate geocode location: None\n"
     ]
    },
    {
     "name": "stderr",
     "output_type": "stream",
     "text": [
      "Processing missing datacenter locations:: 1048it [02:31, 18.06it/s]"
     ]
    },
    {
     "name": "stdout",
     "output_type": "stream",
     "text": [
      "No geocoded locations found for 294812, Charleston, South Carolina, USA\n",
      "Primary address: 7990 Quantum Dr, 22182, Vienna, Virginia, USA\n",
      "geocode location: None\n",
      "Primary address didnt not return a geocoding location. Trying alternate address\n",
      "Alternate address: 22182, Vienna, Virginia, USA\n",
      "alternate geocode location: None\n"
     ]
    },
    {
     "name": "stderr",
     "output_type": "stream",
     "text": [
      "Processing missing datacenter locations:: 1084it [02:37, 14.00it/s]"
     ]
    },
    {
     "name": "stdout",
     "output_type": "stream",
     "text": [
      "Primary address: 2200 Busse Rd, 60007, Elk Grove Village, Illinois, USA\n",
      "geocode location: 2200, Busse Road, Elk Grove Village, Elk Grove Township, Cook County, Illinois, 60007, United States\n"
     ]
    },
    {
     "name": "stderr",
     "output_type": "stream",
     "text": [
      "Processing missing datacenter locations:: 1087it [02:39, 11.82it/s]"
     ]
    },
    {
     "name": "stdout",
     "output_type": "stream",
     "text": [
      "Primary address: SECRET, within Equinix's Great Oaks data center campus in San Jose, CA, 95119, San Jose, California, USA\n",
      "geocode location: None\n",
      "Primary address didnt not return a geocoding location. Trying alternate address\n",
      "Alternate address: 95119, San Jose, California, USA\n",
      "alternate geocode location: None\n"
     ]
    },
    {
     "name": "stderr",
     "output_type": "stream",
     "text": [
      "Processing missing datacenter locations:: 1155it [02:43, 12.78it/s]"
     ]
    },
    {
     "name": "stdout",
     "output_type": "stream",
     "text": [
      "Primary address: SECRET, within 1 block from 5 other data centers, 95670, Rancho Cordova, California, USA\n",
      "geocode location: None\n",
      "Primary address didnt not return a geocoding location. Trying alternate address\n",
      "Alternate address: 95670, Rancho Cordova, California, USA\n",
      "alternate geocode location: None\n"
     ]
    },
    {
     "name": "stderr",
     "output_type": "stream",
     "text": [
      "Processing missing datacenter locations:: 1275it [02:48, 17.03it/s]"
     ]
    },
    {
     "name": "stdout",
     "output_type": "stream",
     "text": [
      "Primary address: SECRET, within East Tillman Road, Adams Center Road, and the railroad track, 46816, Fort Wayne, Indiana, USA\n",
      "geocode location: None\n",
      "Primary address didnt not return a geocoding location. Trying alternate address\n",
      "Alternate address: 46816, Fort Wayne, Indiana, USA\n",
      "alternate geocode location: None\n"
     ]
    },
    {
     "name": "stderr",
     "output_type": "stream",
     "text": [
      "Processing missing datacenter locations:: 1281it [02:53, 12.06it/s]"
     ]
    },
    {
     "name": "stdout",
     "output_type": "stream",
     "text": [
      "Primary address: 505 Marquette Ave NW, 87102, Albuquerque, New Mexico, USA\n",
      "geocode location: Compass Bank Building, 505, Marquette Avenue Northwest, Downtown Albuquerque, Albuquerque, Bernalillo County, New Mexico, 87102, United States\n"
     ]
    },
    {
     "name": "stderr",
     "output_type": "stream",
     "text": [
      "Processing missing datacenter locations:: 1305it [02:55, 11.79it/s]"
     ]
    },
    {
     "name": "stdout",
     "output_type": "stream",
     "text": [
      "Primary address: 1711 M Street NE, 98848, Quincy, Washington, USA\n",
      "geocode location: None\n",
      "Primary address didnt not return a geocoding location. Trying alternate address\n",
      "Alternate address: 98848, Quincy, Washington, USA\n",
      "alternate geocode location: None\n"
     ]
    },
    {
     "name": "stderr",
     "output_type": "stream",
     "text": [
      "Processing missing datacenter locations:: 1316it [03:00,  8.45it/s]"
     ]
    },
    {
     "name": "stdout",
     "output_type": "stream",
     "text": [
      "No geocoded locations found for 98848, Quincy, Washington, USA\n",
      "Primary address: SECRET, within the west side of Hawaii Island, in the unincorporated community of Kawaihae., 96743, Waimea, Hawaii, USA\n",
      "geocode location: None\n",
      "Primary address didnt not return a geocoding location. Trying alternate address\n",
      "Alternate address: 96743, Waimea, Hawaii, USA\n",
      "alternate geocode location: None\n"
     ]
    },
    {
     "name": "stderr",
     "output_type": "stream",
     "text": [
      "Processing missing datacenter locations:: 1331it [03:04,  6.81it/s]"
     ]
    },
    {
     "name": "stdout",
     "output_type": "stream",
     "text": [
      "Primary address: 1151 12th St, 50648, Jesup, Iowa, USA\n",
      "geocode location: 12th Street, Jesup, Buchanan County, Iowa, 50648, United States\n"
     ]
    },
    {
     "name": "stderr",
     "output_type": "stream",
     "text": [
      "Processing missing datacenter locations:: 1336it [03:07,  5.72it/s]"
     ]
    },
    {
     "name": "stdout",
     "output_type": "stream",
     "text": [
      "Primary address: 2001 6th Ave, 98121, Seattle, Washington, USA\n",
      "geocode location: Westin Building, 2001, 6th Avenue, Central Business District, Belltown, Seattle, King County, Washington, 98121, United States\n"
     ]
    },
    {
     "name": "stderr",
     "output_type": "stream",
     "text": [
      "Processing missing datacenter locations:: 1349it [03:09,  5.67it/s]"
     ]
    },
    {
     "name": "stdout",
     "output_type": "stream",
     "text": [
      "Primary address: SECRET, within 2 km from the city, 43004, Blacklick, Ohio, USA\n",
      "geocode location: None\n",
      "Primary address didnt not return a geocoding location. Trying alternate address\n",
      "Alternate address: 43004, Blacklick, Ohio, USA\n",
      "alternate geocode location: None\n"
     ]
    },
    {
     "name": "stderr",
     "output_type": "stream",
     "text": [
      "Processing missing datacenter locations:: 1364it [03:14,  4.73it/s]"
     ]
    },
    {
     "name": "stdout",
     "output_type": "stream",
     "text": [
      "Primary address: 10685-B Hazelhurst Dr. # 19283, 77043, Houston, Texas, USA\n",
      "geocode location: None\n",
      "Primary address didnt not return a geocoding location. Trying alternate address\n",
      "Alternate address: 77043, Houston, Texas, USA\n",
      "alternate geocode location: None\n"
     ]
    },
    {
     "name": "stderr",
     "output_type": "stream",
     "text": [
      "Processing missing datacenter locations:: 1365it [03:19,  3.15it/s]"
     ]
    },
    {
     "name": "stdout",
     "output_type": "stream",
     "text": [
      "Primary address: 1850 Springer Dr, 60148, Lombard, Illinois, USA\n",
      "geocode location: 1850, Springer Drive, Lombard, DuPage County, Illinois, 60148, United States\n"
     ]
    },
    {
     "name": "stderr",
     "output_type": "stream",
     "text": [
      "Processing missing datacenter locations:: 1366it [03:21,  2.64it/s]"
     ]
    },
    {
     "name": "stdout",
     "output_type": "stream",
     "text": [
      "Primary address: 900 N Alameda St #200, 90012, Naud Junction, California, USA\n",
      "geocode location: None\n",
      "Primary address didnt not return a geocoding location. Trying alternate address\n",
      "Alternate address: 90012, Naud Junction, California, USA\n",
      "alternate geocode location: None\n"
     ]
    },
    {
     "name": "stderr",
     "output_type": "stream",
     "text": [
      "Processing missing datacenter locations:: 1367it [03:26,  1.72it/s]"
     ]
    },
    {
     "name": "stdout",
     "output_type": "stream",
     "text": [
      "Primary address: SECRET, within County Line & I-25, 80120, Littleton, Colorado, USA\n",
      "geocode location: None\n",
      "Primary address didnt not return a geocoding location. Trying alternate address\n",
      "Alternate address: 80120, Littleton, Colorado, USA\n",
      "alternate geocode location: None\n"
     ]
    },
    {
     "name": "stderr",
     "output_type": "stream",
     "text": [
      "Processing missing datacenter locations:: 1384it [03:30,  2.37it/s]"
     ]
    },
    {
     "name": "stdout",
     "output_type": "stream",
     "text": [
      "Primary address: 21741 Red Rum Dr, 20147, Ashburn, Virginia, USA\n",
      "geocode location: 21741, Red Rum Drive, Ashburn, Loudoun County, Virginia, 20147, United States\n"
     ]
    },
    {
     "name": "stderr",
     "output_type": "stream",
     "text": [
      "Processing missing datacenter locations:: 1413it [03:33,  4.37it/s]"
     ]
    },
    {
     "name": "stdout",
     "output_type": "stream",
     "text": [
      "Primary address: 2561 Bernville Rd, 19605, Reading, Pennsylvania, USA\n",
      "geocode location: Berks County Department of Emergency Services, 2561, Bernville Road, West Reading, Berks County, Pennsylvania, 19601, United States\n"
     ]
    },
    {
     "name": "stderr",
     "output_type": "stream",
     "text": [
      "Processing missing datacenter locations:: 1439it [03:36,  5.29it/s]"
     ]
    },
    {
     "name": "stdout",
     "output_type": "stream",
     "text": [
      "Primary address: SECRET, within short distance from AZP-1 and AZP-2., 85008, Phoenix, Arizona, USA\n",
      "geocode location: None\n",
      "Primary address didnt not return a geocoding location. Trying alternate address\n",
      "Alternate address: 85008, Phoenix, Arizona, USA\n",
      "alternate geocode location: None\n"
     ]
    },
    {
     "name": "stderr",
     "output_type": "stream",
     "text": [
      "Processing missing datacenter locations:: 1445it [03:41,  3.68it/s]"
     ]
    },
    {
     "name": "stdout",
     "output_type": "stream",
     "text": [
      "Primary address: SECRET, within short distance from VA-1 & VA-2., 20109, Manassas, Virginia, USA\n",
      "geocode location: None\n",
      "Primary address didnt not return a geocoding location. Trying alternate address\n",
      "Alternate address: 20109, Manassas, Virginia, USA\n",
      "alternate geocode location: None\n"
     ]
    },
    {
     "name": "stderr",
     "output_type": "stream",
     "text": [
      "Processing missing datacenter locations:: 1454it [03:46,  3.04it/s]"
     ]
    },
    {
     "name": "stdout",
     "output_type": "stream",
     "text": [
      "Primary address: 2709 N Rocky Point Dr, 33607, Tampa, Florida, USA\n",
      "geocode location: 2709, North Rocky Point Drive, Tampa, Hillsborough County, Florida, 33607, United States\n"
     ]
    },
    {
     "name": "stderr",
     "output_type": "stream",
     "text": [
      "Processing missing datacenter locations:: 1467it [03:48,  3.55it/s]"
     ]
    },
    {
     "name": "stdout",
     "output_type": "stream",
     "text": [
      "Primary address: SECRET, within 30 mile from Philadelphia - 60 mile from Manhatten, 19030, Fairless Hills, Pennsylvania, USA\n",
      "geocode location: None\n",
      "Primary address didnt not return a geocoding location. Trying alternate address\n",
      "Alternate address: 19030, Fairless Hills, Pennsylvania, USA\n",
      "alternate geocode location: None\n"
     ]
    },
    {
     "name": "stderr",
     "output_type": "stream",
     "text": [
      "Processing missing datacenter locations:: 1481it [03:53,  3.31it/s]"
     ]
    },
    {
     "name": "stdout",
     "output_type": "stream",
     "text": [
      "Primary address: 1855 N 6th Ave, 85705, Tucson, Arizona, USA\n",
      "geocode location: 1855, North 6th Avenue, Northwest, Tucson, Pima County, Arizona, 85705, United States\n"
     ]
    },
    {
     "name": "stderr",
     "output_type": "stream",
     "text": [
      "Processing missing datacenter locations:: 1684it [03:56, 20.09it/s]"
     ]
    },
    {
     "name": "stdout",
     "output_type": "stream",
     "text": [
      "Primary address: SECRET, within Just a few miles from Pittsburgh, 15206, Pittsburgh, Pennsylvania, USA\n",
      "geocode location: None\n",
      "Primary address didnt not return a geocoding location. Trying alternate address\n",
      "Alternate address: 15206, Pittsburgh, Pennsylvania, USA\n",
      "alternate geocode location: None\n"
     ]
    },
    {
     "name": "stderr",
     "output_type": "stream",
     "text": [
      "Processing missing datacenter locations:: 1725it [04:01, 15.58it/s]"
     ]
    },
    {
     "name": "stdout",
     "output_type": "stream",
     "text": [
      "Primary address: 10880 Airman Ave, 20112, Manassas, Virginia, USA\n",
      "geocode location: None\n",
      "Primary address didnt not return a geocoding location. Trying alternate address\n",
      "Alternate address: 20112, Manassas, Virginia, USA\n",
      "alternate geocode location: None\n"
     ]
    },
    {
     "name": "stderr",
     "output_type": "stream",
     "text": [
      "Processing missing datacenter locations:: 1734it [04:05, 10.96it/s]"
     ]
    },
    {
     "name": "stdout",
     "output_type": "stream",
     "text": [
      "Primary address: 11455 Cedar Oak Dr, 79936, El Paso, Texas, USA\n",
      "geocode location: 11455, Cedar Oak Drive, El Paso, El Paso County, Texas, 79936, United States\n"
     ]
    },
    {
     "name": "stderr",
     "output_type": "stream",
     "text": [
      "Processing missing datacenter locations:: 1737it [04:07,  9.18it/s]"
     ]
    },
    {
     "name": "stdout",
     "output_type": "stream",
     "text": [
      "Primary address: 13619 Cabezut Dr, 78045, Laredo, Texas, USA\n",
      "geocode location: 13619, Cabezut Drive, Unitec Industrial Park, Laredo, Webb County, Texas, 78045, United States\n"
     ]
    },
    {
     "name": "stderr",
     "output_type": "stream",
     "text": [
      "Processing missing datacenter locations:: 1739it [04:10,  7.46it/s]"
     ]
    },
    {
     "name": "stdout",
     "output_type": "stream",
     "text": [
      "Primary address: SECRET, within 5 miles of address, 39402, Hattiesburg, Mississippi, USA\n",
      "geocode location: None\n",
      "Primary address didnt not return a geocoding location. Trying alternate address\n",
      "Alternate address: 39402, Hattiesburg, Mississippi, USA\n",
      "alternate geocode location: None\n"
     ]
    },
    {
     "name": "stderr",
     "output_type": "stream",
     "text": [
      "Processing missing datacenter locations:: 1745it [04:16,  4.50it/s]"
     ]
    },
    {
     "name": "stdout",
     "output_type": "stream",
     "text": [
      "Primary address: SECRET, within the River Ridge Commerce Center in Jeffersonville, 47130, Jeffersonville, Indiana, USA\n",
      "geocode location: None\n",
      "Primary address didnt not return a geocoding location. Trying alternate address\n",
      "Alternate address: 47130, Jeffersonville, Indiana, USA\n",
      "alternate geocode location: None\n"
     ]
    },
    {
     "name": "stderr",
     "output_type": "stream",
     "text": [
      "Processing missing datacenter locations:: 1758it [04:20,  3.96it/s]"
     ]
    },
    {
     "name": "stdout",
     "output_type": "stream",
     "text": [
      "Primary address: SECRET, within 16 miles from downtown Boise, 83634, Kuna, Idaho, USA\n",
      "geocode location: None\n",
      "Primary address didnt not return a geocoding location. Trying alternate address\n",
      "Alternate address: 83634, Kuna, Idaho, USA\n",
      "alternate geocode location: None\n"
     ]
    },
    {
     "name": "stderr",
     "output_type": "stream",
     "text": [
      "Processing missing datacenter locations:: 1760it [04:25,  2.80it/s]"
     ]
    },
    {
     "name": "stdout",
     "output_type": "stream",
     "text": [
      "Primary address: SECRET, within east of Dakota County Technical College, 55068, Rosemount, Minnesota, USA\n",
      "geocode location: None\n",
      "Primary address didnt not return a geocoding location. Trying alternate address\n",
      "Alternate address: 55068, Rosemount, Minnesota, USA\n",
      "alternate geocode location: None\n"
     ]
    },
    {
     "name": "stderr",
     "output_type": "stream",
     "text": [
      "Processing missing datacenter locations:: 1764it [04:30,  2.19it/s]"
     ]
    },
    {
     "name": "stdout",
     "output_type": "stream",
     "text": [
      "Primary address: SECRET, within Bison Business Park, along Highway 85, 82007, Cheyenne, Wyoming, USA\n",
      "geocode location: None\n",
      "Primary address didnt not return a geocoding location. Trying alternate address\n",
      "Alternate address: 82007, Cheyenne, Wyoming, USA\n",
      "alternate geocode location: None\n"
     ]
    },
    {
     "name": "stderr",
     "output_type": "stream",
     "text": [
      "Processing missing datacenter locations:: 1775it [04:34,  2.28it/s]"
     ]
    },
    {
     "name": "stdout",
     "output_type": "stream",
     "text": [
      "Primary address: SECRET, within Cheyenne Business Parkway by the Christensen overpass, 82007, Cheyenne, Wyoming, USA\n",
      "geocode location: None\n",
      "Primary address didnt not return a geocoding location. Trying alternate address\n",
      "Alternate address: 82007, Cheyenne, Wyoming, USA\n",
      "alternate geocode location: None\n"
     ]
    },
    {
     "name": "stderr",
     "output_type": "stream",
     "text": [
      "Processing missing datacenter locations:: 1778it [04:39,  1.80it/s]"
     ]
    },
    {
     "name": "stdout",
     "output_type": "stream",
     "text": [
      "Primary address: SECRET, within Fresno, California, n/a, Fresno, California, USA\n",
      "geocode location: None\n",
      "Primary address didnt not return a geocoding location. Trying alternate address\n",
      "Alternate address: n/a, Fresno, California, USA\n",
      "alternate geocode location: None\n"
     ]
    },
    {
     "name": "stderr",
     "output_type": "stream",
     "text": [
      "Processing missing datacenter locations:: 1781it [04:44,  1.43it/s]"
     ]
    },
    {
     "name": "stdout",
     "output_type": "stream",
     "text": [
      "No geocoded locations found for n/a, Fresno, California, USA\n",
      "Primary address: SECRET, within Bison Business Park, along Highway 85, 23970, South Hill, Virginia, USA\n",
      "geocode location: None\n",
      "Primary address didnt not return a geocoding location. Trying alternate address\n",
      "Alternate address: 23970, South Hill, Virginia, USA\n",
      "alternate geocode location: None\n"
     ]
    },
    {
     "name": "stderr",
     "output_type": "stream",
     "text": [
      "Processing missing datacenter locations:: 1784it [04:48,  1.20it/s]"
     ]
    },
    {
     "name": "stdout",
     "output_type": "stream",
     "text": [
      "Primary address: SECRET, within 4 miles from city centre, 58104, Fargo, North Dakota, USA\n",
      "geocode location: None\n",
      "Primary address didnt not return a geocoding location. Trying alternate address\n",
      "Alternate address: 58104, Fargo, North Dakota, USA\n",
      "alternate geocode location: None\n"
     ]
    },
    {
     "name": "stderr",
     "output_type": "stream",
     "text": [
      "Processing missing datacenter locations:: 1802it [04:53,  1.97it/s]"
     ]
    },
    {
     "name": "stdout",
     "output_type": "stream",
     "text": [
      "Primary address: SECRET, within 2 miles, 20705, Beltsville, Maryland, USA\n",
      "geocode location: None\n",
      "Primary address didnt not return a geocoding location. Trying alternate address\n",
      "Alternate address: 20705, Beltsville, Maryland, USA\n",
      "alternate geocode location: None\n"
     ]
    },
    {
     "name": "stderr",
     "output_type": "stream",
     "text": [
      "Processing missing datacenter locations:: 1810it [04:58,  1.90it/s]"
     ]
    },
    {
     "name": "stdout",
     "output_type": "stream",
     "text": [
      "Primary address: SECRET, within the city of Nashville, 37217, Nashville, Tennessee, USA\n",
      "geocode location: None\n",
      "Primary address didnt not return a geocoding location. Trying alternate address\n",
      "Alternate address: 37217, Nashville, Tennessee, USA\n",
      "alternate geocode location: None\n"
     ]
    },
    {
     "name": "stderr",
     "output_type": "stream",
     "text": [
      "Processing missing datacenter locations:: 1861it [05:03,  4.56it/s]"
     ]
    },
    {
     "name": "stdout",
     "output_type": "stream",
     "text": [
      "Primary address: 7135 South Decatur Blvd, 89118, Las Vegas, Nevada, USA\n",
      "geocode location: Switch 7, 7135, South Decatur Boulevard, Enterprise, Clark County, Nevada, 89118, United States\n"
     ]
    },
    {
     "name": "stderr",
     "output_type": "stream",
     "text": [
      "Processing missing datacenter locations:: 1871it [05:05,  4.55it/s]"
     ]
    },
    {
     "name": "stdout",
     "output_type": "stream",
     "text": [
      "Primary address: 1 Ramland Rd, 10962, Orangeburg, New York, USA\n",
      "geocode location: 1, Ramland Road, Orangeburg, Town of Orangetown, Rockland County, New York, 10962, United States\n"
     ]
    },
    {
     "name": "stderr",
     "output_type": "stream",
     "text": [
      "Processing missing datacenter locations:: 1933it [05:07,  9.12it/s]"
     ]
    },
    {
     "name": "stdout",
     "output_type": "stream",
     "text": [
      "Primary address: 2407 AK Street, 95652, McClellan Park, California, USA\n",
      "geocode location: None\n",
      "Primary address didnt not return a geocoding location. Trying alternate address\n",
      "Alternate address: 95652, McClellan Park, California, USA\n",
      "alternate geocode location: None\n"
     ]
    },
    {
     "name": "stderr",
     "output_type": "stream",
     "text": [
      "Processing missing datacenter locations:: 1975it [05:12,  9.07it/s]"
     ]
    },
    {
     "name": "stdout",
     "output_type": "stream",
     "text": [
      "Primary address: 2407 AK St, 95652, McClellan, California, USA\n",
      "geocode location: None\n",
      "Primary address didnt not return a geocoding location. Trying alternate address\n",
      "Alternate address: 95652, McClellan, California, USA\n",
      "alternate geocode location: None\n"
     ]
    },
    {
     "name": "stderr",
     "output_type": "stream",
     "text": [
      "Processing missing datacenter locations:: 1978it [05:16,  6.08it/s]"
     ]
    },
    {
     "name": "stdout",
     "output_type": "stream",
     "text": [
      "Primary address: SECRET, within Hillsboro, TBA, Hillsboro, Oregon, USA\n",
      "geocode location: None\n",
      "Primary address didnt not return a geocoding location. Trying alternate address\n",
      "Alternate address: TBA, Hillsboro, Oregon, USA\n",
      "alternate geocode location: None\n"
     ]
    },
    {
     "name": "stderr",
     "output_type": "stream",
     "text": [
      "Processing missing datacenter locations:: 2012it [05:21,  6.61it/s]"
     ]
    },
    {
     "name": "stdout",
     "output_type": "stream",
     "text": [
      "No geocoded locations found for TBA, Hillsboro, Oregon, USA\n",
      "Primary address: 8500 Vicar Drive, 78218, San Antonio, Texas, USA\n",
      "geocode location: 8500, Vicar Drive, San Antonio, Bexar County, Texas, 78218, United States\n"
     ]
    },
    {
     "name": "stderr",
     "output_type": "stream",
     "text": [
      "Processing missing datacenter locations:: 2085it [05:23, 11.52it/s]"
     ]
    },
    {
     "name": "stdout",
     "output_type": "stream",
     "text": [
      "Primary address: SECRET, within about 25 miles north of Downtown Austin, 75075, Plano, Texas, USA\n",
      "geocode location: None\n",
      "Primary address didnt not return a geocoding location. Trying alternate address\n",
      "Alternate address: 75075, Plano, Texas, USA\n",
      "alternate geocode location: None\n"
     ]
    },
    {
     "name": "stderr",
     "output_type": "stream",
     "text": [
      "Processing missing datacenter locations:: 2127it [05:28, 10.27it/s]"
     ]
    },
    {
     "name": "stdout",
     "output_type": "stream",
     "text": [
      "Primary address: SECRET, within about 25 miles north of Downtown Austin, 78634, Hutto, Texas, USA\n",
      "geocode location: None\n",
      "Primary address didnt not return a geocoding location. Trying alternate address\n",
      "Alternate address: 78634, Hutto, Texas, USA\n",
      "alternate geocode location: None\n"
     ]
    },
    {
     "name": "stderr",
     "output_type": "stream",
     "text": [
      "Processing missing datacenter locations:: 2129it [05:33,  7.00it/s]"
     ]
    },
    {
     "name": "stdout",
     "output_type": "stream",
     "text": [
      "Primary address: SECRET, within near Interstate 35E, 75146, Lancaster, Texas, USA\n",
      "geocode location: None\n",
      "Primary address didnt not return a geocoding location. Trying alternate address\n",
      "Alternate address: 75146, Lancaster, Texas, USA\n",
      "alternate geocode location: None\n"
     ]
    },
    {
     "name": "stderr",
     "output_type": "stream",
     "text": [
      "Processing missing datacenter locations:: 2130it [05:37,  4.91it/s]"
     ]
    },
    {
     "name": "stdout",
     "output_type": "stream",
     "text": [
      "Primary address: SECRET, within 9 miles from Sioux Falls Airport, 57108, Sioux Falls, South Dakota, USA\n",
      "geocode location: None\n",
      "Primary address didnt not return a geocoding location. Trying alternate address\n",
      "Alternate address: 57108, Sioux Falls, South Dakota, USA\n",
      "alternate geocode location: None\n"
     ]
    },
    {
     "name": "stderr",
     "output_type": "stream",
     "text": [
      "Processing missing datacenter locations:: 2141it [05:42,  4.03it/s]"
     ]
    },
    {
     "name": "stdout",
     "output_type": "stream",
     "text": [
      "Primary address: 3919 Crescent Circle, 46628, South Bend, Indiana, USA\n",
      "geocode location: Crescent Circle, South Bend, Saint Joseph County, Indiana, 46628, United States\n"
     ]
    },
    {
     "name": "stderr",
     "output_type": "stream",
     "text": [
      "Processing missing datacenter locations:: 2146it [05:44,  3.67it/s]"
     ]
    },
    {
     "name": "stdout",
     "output_type": "stream",
     "text": [
      "Primary address: SECRET, within within 5 miles of Ebesburg, 15931, Ebensburg, Pennsylvania, USA\n",
      "geocode location: None\n",
      "Primary address didnt not return a geocoding location. Trying alternate address\n",
      "Alternate address: 15931, Ebensburg, Pennsylvania, USA\n",
      "alternate geocode location: None\n"
     ]
    },
    {
     "name": "stderr",
     "output_type": "stream",
     "text": [
      "Processing missing datacenter locations:: 2148it [05:49,  2.61it/s]"
     ]
    },
    {
     "name": "stdout",
     "output_type": "stream",
     "text": [
      "Primary address: SECRET, within downtown Las Vegas, 89104, Las Vegas, Nevada, USA\n",
      "geocode location: None\n",
      "Primary address didnt not return a geocoding location. Trying alternate address\n",
      "Alternate address: 89104, Las Vegas, Nevada, USA\n",
      "alternate geocode location: None\n"
     ]
    },
    {
     "name": "stderr",
     "output_type": "stream",
     "text": [
      "Processing missing datacenter locations:: 2150it [05:53,  1.90it/s]"
     ]
    },
    {
     "name": "stdout",
     "output_type": "stream",
     "text": [
      "Primary address: 3015 McGehee Rd., 36111, Montgomery, Alabama, USA\n",
      "geocode location: 3015, McGehee Road, Gladlane Estates, Montgomery, Montgomery County, Alabama, 36111, United States\n"
     ]
    },
    {
     "name": "stderr",
     "output_type": "stream",
     "text": [
      "Processing missing datacenter locations:: 2151it [05:56,  1.62it/s]"
     ]
    },
    {
     "name": "stdout",
     "output_type": "stream",
     "text": [
      "Primary address: SECRET, within Bristow, around Hazel Cir Drive, 20136, Bristow, Maryland, USA\n",
      "geocode location: None\n",
      "Primary address didnt not return a geocoding location. Trying alternate address\n",
      "Alternate address: 20136, Bristow, Maryland, USA\n",
      "alternate geocode location: None\n"
     ]
    },
    {
     "name": "stderr",
     "output_type": "stream",
     "text": [
      "Processing missing datacenter locations:: 2163it [06:00,  1.99it/s]"
     ]
    },
    {
     "name": "stdout",
     "output_type": "stream",
     "text": [
      "Primary address: SECRET, within Bristow, around Hazel Cir Drive, 20136, Bristow, Maryland, USA\n",
      "geocode location: None\n",
      "Primary address didnt not return a geocoding location. Trying alternate address\n",
      "Alternate address: 20136, Bristow, Maryland, USA\n",
      "alternate geocode location: None\n"
     ]
    },
    {
     "name": "stderr",
     "output_type": "stream",
     "text": [
      "Processing missing datacenter locations:: 2164it [06:05,  1.40it/s]"
     ]
    },
    {
     "name": "stdout",
     "output_type": "stream",
     "text": [
      "Primary address: SECRET, within Bristow, around Hazel Cir Drive, 20136, Bristow, Maryland, USA\n",
      "geocode location: None\n",
      "Primary address didnt not return a geocoding location. Trying alternate address\n",
      "Alternate address: 20136, Bristow, Maryland, USA\n",
      "alternate geocode location: None\n"
     ]
    },
    {
     "name": "stderr",
     "output_type": "stream",
     "text": [
      "Processing missing datacenter locations:: 2165it [06:09,  1.02it/s]"
     ]
    },
    {
     "name": "stdout",
     "output_type": "stream",
     "text": [
      "Primary address: SECRET, within Bristow, around Hazel Cir Drive, 20136, Bristow, Maryland, USA\n",
      "geocode location: None\n",
      "Primary address didnt not return a geocoding location. Trying alternate address\n",
      "Alternate address: 20136, Bristow, Maryland, USA\n",
      "alternate geocode location: None\n"
     ]
    },
    {
     "name": "stderr",
     "output_type": "stream",
     "text": [
      "Processing missing datacenter locations:: 2166it [06:14,  1.31s/it]"
     ]
    },
    {
     "name": "stdout",
     "output_type": "stream",
     "text": [
      "Primary address: SECRET, within Bristow, around Hazel Cir Drive, 20136, Bristow, Maryland, USA\n",
      "geocode location: None\n",
      "Primary address didnt not return a geocoding location. Trying alternate address\n",
      "Alternate address: 20136, Bristow, Maryland, USA\n",
      "alternate geocode location: None\n"
     ]
    },
    {
     "name": "stderr",
     "output_type": "stream",
     "text": [
      "Processing missing datacenter locations:: 2167it [06:18,  1.68s/it]"
     ]
    },
    {
     "name": "stdout",
     "output_type": "stream",
     "text": [
      "Primary address: SECRET, within Bristow, around Hazel Cir Drive, 20136, Bristow, Maryland, USA\n",
      "geocode location: None\n",
      "Primary address didnt not return a geocoding location. Trying alternate address\n",
      "Alternate address: 20136, Bristow, Maryland, USA\n",
      "alternate geocode location: None\n"
     ]
    },
    {
     "name": "stderr",
     "output_type": "stream",
     "text": [
      "Processing missing datacenter locations:: 2168it [06:23,  2.08s/it]"
     ]
    },
    {
     "name": "stdout",
     "output_type": "stream",
     "text": [
      "Primary address: 9101 Freedom Center Blvd, 20110, Manassas, Virginia, USA\n",
      "geocode location: None\n",
      "Primary address didnt not return a geocoding location. Trying alternate address\n",
      "Alternate address: 20110, Manassas, Virginia, USA\n",
      "alternate geocode location: None\n"
     ]
    },
    {
     "name": "stderr",
     "output_type": "stream",
     "text": [
      "Processing missing datacenter locations:: 2170it [06:28,  2.19s/it]"
     ]
    },
    {
     "name": "stdout",
     "output_type": "stream",
     "text": [
      "Primary address: SECRET, within 1 block from the 5 & 91 freeways, 92801, Anaheim, California, USA\n",
      "geocode location: None\n",
      "Primary address didnt not return a geocoding location. Trying alternate address\n",
      "Alternate address: 92801, Anaheim, California, USA\n",
      "alternate geocode location: None\n"
     ]
    },
    {
     "name": "stderr",
     "output_type": "stream",
     "text": [
      "Processing missing datacenter locations:: 2185it [06:33,  1.28it/s]"
     ]
    },
    {
     "name": "stdout",
     "output_type": "stream",
     "text": [
      "Primary address: SECRET, within near 1 Dell Way, 78682, Round Rock, Texas, USA\n",
      "geocode location: None\n",
      "Primary address didnt not return a geocoding location. Trying alternate address\n",
      "Alternate address: 78682, Round Rock, Texas, USA\n",
      "alternate geocode location: None\n"
     ]
    },
    {
     "name": "stderr",
     "output_type": "stream",
     "text": [
      "Processing missing datacenter locations:: 2216it [06:37,  2.90it/s]"
     ]
    },
    {
     "name": "stdout",
     "output_type": "stream",
     "text": [
      "Primary address: 820 Allen Commerce Parkway, 75013, Allen, Texas, USA\n",
      "geocode location: 820, Allen Commerce Parkway, Allen, Collin County, Texas, 75013, United States\n"
     ]
    },
    {
     "name": "stderr",
     "output_type": "stream",
     "text": [
      "Processing missing datacenter locations:: 2308it [06:39,  9.48it/s]"
     ]
    },
    {
     "name": "stdout",
     "output_type": "stream",
     "text": [
      "Primary address: SECRET, within 5 miles of I-494 and I-94, 55101, St. Paul Suburbs, Minnesota, USA\n",
      "geocode location: None\n",
      "Primary address didnt not return a geocoding location. Trying alternate address\n",
      "Alternate address: 55101, St. Paul Suburbs, Minnesota, USA\n",
      "alternate geocode location: None\n"
     ]
    },
    {
     "name": "stderr",
     "output_type": "stream",
     "text": [
      "Processing missing datacenter locations:: 2338it [06:45,  8.16it/s]"
     ]
    },
    {
     "name": "stdout",
     "output_type": "stream",
     "text": [
      "No geocoded locations found for 55101, St. Paul Suburbs, Minnesota, USA\n",
      "Primary address: SECRET, within 5 miles from I-494 and I-94, 55402, Minneapolis Suburbs, Minnesota, USA\n",
      "geocode location: None\n",
      "Primary address didnt not return a geocoding location. Trying alternate address\n",
      "Alternate address: 55402, Minneapolis Suburbs, Minnesota, USA\n",
      "alternate geocode location: None\n"
     ]
    },
    {
     "name": "stderr",
     "output_type": "stream",
     "text": [
      "Processing missing datacenter locations:: 2340it [06:50,  5.53it/s]"
     ]
    },
    {
     "name": "stdout",
     "output_type": "stream",
     "text": [
      "No geocoded locations found for 55402, Minneapolis Suburbs, Minnesota, USA\n",
      "Primary address: SECRET, within Within 5 miles of downtown Buffalo, 14218, Buffalo, New York, USA\n",
      "geocode location: None\n",
      "Primary address didnt not return a geocoding location. Trying alternate address\n",
      "Alternate address: 14218, Buffalo, New York, USA\n",
      "alternate geocode location: None\n"
     ]
    },
    {
     "name": "stderr",
     "output_type": "stream",
     "text": [
      "Processing missing datacenter locations:: 2411it [06:54,  8.51it/s]"
     ]
    },
    {
     "name": "stdout",
     "output_type": "stream",
     "text": [
      "Primary address: SECRET, within West Des Moines, 50266, West Des Moines, Iowa, USA\n",
      "geocode location: None\n",
      "Primary address didnt not return a geocoding location. Trying alternate address\n",
      "Alternate address: 50266, West Des Moines, Iowa, USA\n",
      "alternate geocode location: None\n"
     ]
    },
    {
     "name": "stderr",
     "output_type": "stream",
     "text": [
      "Processing missing datacenter locations:: 2438it [06:59,  7.73it/s]"
     ]
    },
    {
     "name": "stdout",
     "output_type": "stream",
     "text": [
      "Primary address: SECRET, within 30 miles from Chicago City Center, 60563, Naperville, Illinois, USA\n",
      "geocode location: None\n",
      "Primary address didnt not return a geocoding location. Trying alternate address\n",
      "Alternate address: 60563, Naperville, Illinois, USA\n",
      "alternate geocode location: None\n"
     ]
    },
    {
     "name": "stderr",
     "output_type": "stream",
     "text": [
      "Processing missing datacenter locations:: 2473it [07:04,  7.64it/s]"
     ]
    },
    {
     "name": "stdout",
     "output_type": "stream",
     "text": [
      "Primary address: SECRET, within Within 6 miles of Youngstown, OH, 44504, Youngstown, Ohio, USA\n",
      "geocode location: None\n",
      "Primary address didnt not return a geocoding location. Trying alternate address\n",
      "Alternate address: 44504, Youngstown, Ohio, USA\n",
      "alternate geocode location: None\n"
     ]
    },
    {
     "name": "stderr",
     "output_type": "stream",
     "text": [
      "Processing missing datacenter locations:: 2526it [07:09,  5.89it/s]\n"
     ]
    }
   ],
   "source": [
    "\n",
    "# Iterate through each row to check and update geometry\n",
    "for i, row in tqdm(gdf_usa.iterrows(), desc='Processing missing datacenter locations:'):\n",
    "\n",
    "    # if a row (i.e. a datacenter) does not have a geometry (i.e. a location)\n",
    "    if row['geometry'] is None or row['geometry'].is_empty:        \n",
    "        # Create an address for the geolocator, by trying to combine the \n",
    "        address = f\"{row['address']}, {row['postal']}, {row['city']}, {row['state']}, {row['country']}\"\n",
    "        location = geolocator.geocode(address)\n",
    "        print(f'Primary address: {address}')\n",
    "        print(f'geocode location: {location}')\n",
    "\n",
    "        #we wait 2 seconds, as to not overload the nominatim API\n",
    "        time.sleep(2)\n",
    "        if location:\n",
    "            # Primary location found, updating the geometry\n",
    "            gdf_usa.at[i, 'geometry'] = Point(location.longitude, location.latitude)\n",
    "            gdf_usa.at[i, 'latitude'] = location.latitude\n",
    "            gdf_usa.at[i, 'longitude'] = location.longitude\n",
    "        else:\n",
    "            # If primary address does not return a location, try an alternate address\n",
    "            alt_address = f\"{row['postal']}, {row['city']}, {row['state']}, {row['country']}\"\n",
    "            print(f'Primary address didnt not return a geocoding location. Trying alternate address')\n",
    "            print(f'Alternate address: {alt_address}')\n",
    "            alt_location = geolocator.geocode(alt_address)\n",
    "            print(f'alternate geocode location: {location}')\n",
    "            \n",
    "            #we wait 2 seconds, as to not overload the nominatim API\n",
    "            time.sleep(2)\n",
    "            if alt_location:\n",
    "                # Alternate location found, updating the geometry\n",
    "                gdf_usa.at[i, 'geometry'] = Point(alt_location.longitude, alt_location.latitude)\n",
    "                gdf_usa.at[i, 'latitude'] = alt_location.latitude\n",
    "                gdf_usa.at[i, 'longitude'] = alt_location.longitude\n",
    "            else:\n",
    "                # Neither primary nor alternate location found\n",
    "                print(f\"No geocoded locations found for {alt_address}\")"
   ]
  },
  {
   "cell_type": "code",
   "execution_count": 12,
   "metadata": {},
   "outputs": [
    {
     "name": "stdout",
     "output_type": "stream",
     "text": [
      "None\n"
     ]
    }
   ],
   "source": [
    "address = \"294812, Charleston, South Carolina, USA\"\n",
    "\n",
    "location = geolocator.geocode(address)\n",
    "\n",
    "print(location)"
   ]
  },
  {
   "cell_type": "markdown",
   "metadata": {},
   "source": [
    "## References \n",
    "\n",
    "### Nominatim\n",
    "\n",
    "https://medium.com/@gopesh3652/geocoding-with-python-using-nominatim-a-beginners-guide-220b250ca48d \n",
    "\n",
    "https://geopy.readthedocs.io/en/stable/ \n",
    "\n",
    "\n",
    "### Temperatures\n",
    "\n",
    "Alaska:\n",
    "https://www.ncei.noaa.gov/access/monitoring/monthly-report/national/202313 \n",
    "\n",
    "Hawaii:\n",
    "https://www.usclimatedata.com/climate/honolulu/hawaii/united-states/ushi0026\n",
    "\n",
    "Washington DC:\n",
    "https://www.weather.gov/media/lwx/climate/dcatemps.pdf \n"
   ]
  }
 ],
 "metadata": {
  "kernelspec": {
   "display_name": "Python 3",
   "language": "python",
   "name": "python3"
  },
  "language_info": {
   "codemirror_mode": {
    "name": "ipython",
    "version": 3
   },
   "file_extension": ".py",
   "mimetype": "text/x-python",
   "name": "python",
   "nbconvert_exporter": "python",
   "pygments_lexer": "ipython3",
   "version": "3.12.0"
  }
 },
 "nbformat": 4,
 "nbformat_minor": 2
}
